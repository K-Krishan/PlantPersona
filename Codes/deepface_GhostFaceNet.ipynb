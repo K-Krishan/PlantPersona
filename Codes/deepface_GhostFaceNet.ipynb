{
  "nbformat": 4,
  "nbformat_minor": 0,
  "metadata": {
    "colab": {
      "provenance": [],
      "gpuType": "T4"
    },
    "kernelspec": {
      "name": "python3",
      "display_name": "Python 3"
    },
    "language_info": {
      "name": "python"
    },
    "accelerator": "GPU"
  },
  "cells": [
    {
      "cell_type": "code",
      "execution_count": null,
      "metadata": {
        "colab": {
          "base_uri": "https://localhost:8080/"
        },
        "id": "73XEZNj7Zi5Q",
        "outputId": "af6d93c2-ad54-4231-99ab-4cbabd800431"
      },
      "outputs": [
        {
          "output_type": "stream",
          "name": "stdout",
          "text": [
            "Requirement already satisfied: deepface in /usr/local/lib/python3.10/dist-packages (0.0.90)\n",
            "Requirement already satisfied: requests>=2.27.1 in /usr/local/lib/python3.10/dist-packages (from deepface) (2.31.0)\n",
            "Requirement already satisfied: numpy>=1.14.0 in /usr/local/lib/python3.10/dist-packages (from deepface) (1.25.2)\n",
            "Requirement already satisfied: pandas>=0.23.4 in /usr/local/lib/python3.10/dist-packages (from deepface) (2.0.3)\n",
            "Requirement already satisfied: gdown>=3.10.1 in /usr/local/lib/python3.10/dist-packages (from deepface) (5.1.0)\n",
            "Requirement already satisfied: tqdm>=4.30.0 in /usr/local/lib/python3.10/dist-packages (from deepface) (4.66.2)\n",
            "Requirement already satisfied: Pillow>=5.2.0 in /usr/local/lib/python3.10/dist-packages (from deepface) (9.4.0)\n",
            "Requirement already satisfied: opencv-python>=4.5.5.64 in /usr/local/lib/python3.10/dist-packages (from deepface) (4.8.0.76)\n",
            "Requirement already satisfied: tensorflow>=1.9.0 in /usr/local/lib/python3.10/dist-packages (from deepface) (2.15.0)\n",
            "Requirement already satisfied: keras>=2.2.0 in /usr/local/lib/python3.10/dist-packages (from deepface) (2.15.0)\n",
            "Requirement already satisfied: Flask>=1.1.2 in /usr/local/lib/python3.10/dist-packages (from deepface) (2.2.5)\n",
            "Requirement already satisfied: mtcnn>=0.1.0 in /usr/local/lib/python3.10/dist-packages (from deepface) (0.1.1)\n",
            "Requirement already satisfied: retina-face>=0.0.1 in /usr/local/lib/python3.10/dist-packages (from deepface) (0.0.17)\n",
            "Requirement already satisfied: fire>=0.4.0 in /usr/local/lib/python3.10/dist-packages (from deepface) (0.6.0)\n",
            "Requirement already satisfied: gunicorn>=20.1.0 in /usr/local/lib/python3.10/dist-packages (from deepface) (22.0.0)\n",
            "Requirement already satisfied: six in /usr/local/lib/python3.10/dist-packages (from fire>=0.4.0->deepface) (1.16.0)\n",
            "Requirement already satisfied: termcolor in /usr/local/lib/python3.10/dist-packages (from fire>=0.4.0->deepface) (2.4.0)\n",
            "Requirement already satisfied: Werkzeug>=2.2.2 in /usr/local/lib/python3.10/dist-packages (from Flask>=1.1.2->deepface) (3.0.2)\n",
            "Requirement already satisfied: Jinja2>=3.0 in /usr/local/lib/python3.10/dist-packages (from Flask>=1.1.2->deepface) (3.1.3)\n",
            "Requirement already satisfied: itsdangerous>=2.0 in /usr/local/lib/python3.10/dist-packages (from Flask>=1.1.2->deepface) (2.2.0)\n",
            "Requirement already satisfied: click>=8.0 in /usr/local/lib/python3.10/dist-packages (from Flask>=1.1.2->deepface) (8.1.7)\n",
            "Requirement already satisfied: beautifulsoup4 in /usr/local/lib/python3.10/dist-packages (from gdown>=3.10.1->deepface) (4.12.3)\n",
            "Requirement already satisfied: filelock in /usr/local/lib/python3.10/dist-packages (from gdown>=3.10.1->deepface) (3.13.4)\n",
            "Requirement already satisfied: packaging in /usr/local/lib/python3.10/dist-packages (from gunicorn>=20.1.0->deepface) (24.0)\n",
            "Requirement already satisfied: python-dateutil>=2.8.2 in /usr/local/lib/python3.10/dist-packages (from pandas>=0.23.4->deepface) (2.8.2)\n",
            "Requirement already satisfied: pytz>=2020.1 in /usr/local/lib/python3.10/dist-packages (from pandas>=0.23.4->deepface) (2023.4)\n",
            "Requirement already satisfied: tzdata>=2022.1 in /usr/local/lib/python3.10/dist-packages (from pandas>=0.23.4->deepface) (2024.1)\n",
            "Requirement already satisfied: charset-normalizer<4,>=2 in /usr/local/lib/python3.10/dist-packages (from requests>=2.27.1->deepface) (3.3.2)\n",
            "Requirement already satisfied: idna<4,>=2.5 in /usr/local/lib/python3.10/dist-packages (from requests>=2.27.1->deepface) (3.7)\n",
            "Requirement already satisfied: urllib3<3,>=1.21.1 in /usr/local/lib/python3.10/dist-packages (from requests>=2.27.1->deepface) (2.0.7)\n",
            "Requirement already satisfied: certifi>=2017.4.17 in /usr/local/lib/python3.10/dist-packages (from requests>=2.27.1->deepface) (2024.2.2)\n",
            "Requirement already satisfied: absl-py>=1.0.0 in /usr/local/lib/python3.10/dist-packages (from tensorflow>=1.9.0->deepface) (1.4.0)\n",
            "Requirement already satisfied: astunparse>=1.6.0 in /usr/local/lib/python3.10/dist-packages (from tensorflow>=1.9.0->deepface) (1.6.3)\n",
            "Requirement already satisfied: flatbuffers>=23.5.26 in /usr/local/lib/python3.10/dist-packages (from tensorflow>=1.9.0->deepface) (24.3.25)\n",
            "Requirement already satisfied: gast!=0.5.0,!=0.5.1,!=0.5.2,>=0.2.1 in /usr/local/lib/python3.10/dist-packages (from tensorflow>=1.9.0->deepface) (0.5.4)\n",
            "Requirement already satisfied: google-pasta>=0.1.1 in /usr/local/lib/python3.10/dist-packages (from tensorflow>=1.9.0->deepface) (0.2.0)\n",
            "Requirement already satisfied: h5py>=2.9.0 in /usr/local/lib/python3.10/dist-packages (from tensorflow>=1.9.0->deepface) (3.9.0)\n",
            "Requirement already satisfied: libclang>=13.0.0 in /usr/local/lib/python3.10/dist-packages (from tensorflow>=1.9.0->deepface) (18.1.1)\n",
            "Requirement already satisfied: ml-dtypes~=0.2.0 in /usr/local/lib/python3.10/dist-packages (from tensorflow>=1.9.0->deepface) (0.2.0)\n",
            "Requirement already satisfied: opt-einsum>=2.3.2 in /usr/local/lib/python3.10/dist-packages (from tensorflow>=1.9.0->deepface) (3.3.0)\n",
            "Requirement already satisfied: protobuf!=4.21.0,!=4.21.1,!=4.21.2,!=4.21.3,!=4.21.4,!=4.21.5,<5.0.0dev,>=3.20.3 in /usr/local/lib/python3.10/dist-packages (from tensorflow>=1.9.0->deepface) (3.20.3)\n",
            "Requirement already satisfied: setuptools in /usr/local/lib/python3.10/dist-packages (from tensorflow>=1.9.0->deepface) (67.7.2)\n",
            "Requirement already satisfied: typing-extensions>=3.6.6 in /usr/local/lib/python3.10/dist-packages (from tensorflow>=1.9.0->deepface) (4.11.0)\n",
            "Requirement already satisfied: wrapt<1.15,>=1.11.0 in /usr/local/lib/python3.10/dist-packages (from tensorflow>=1.9.0->deepface) (1.14.1)\n",
            "Requirement already satisfied: tensorflow-io-gcs-filesystem>=0.23.1 in /usr/local/lib/python3.10/dist-packages (from tensorflow>=1.9.0->deepface) (0.36.0)\n",
            "Requirement already satisfied: grpcio<2.0,>=1.24.3 in /usr/local/lib/python3.10/dist-packages (from tensorflow>=1.9.0->deepface) (1.62.2)\n",
            "Requirement already satisfied: tensorboard<2.16,>=2.15 in /usr/local/lib/python3.10/dist-packages (from tensorflow>=1.9.0->deepface) (2.15.2)\n",
            "Requirement already satisfied: tensorflow-estimator<2.16,>=2.15.0 in /usr/local/lib/python3.10/dist-packages (from tensorflow>=1.9.0->deepface) (2.15.0)\n",
            "Requirement already satisfied: wheel<1.0,>=0.23.0 in /usr/local/lib/python3.10/dist-packages (from astunparse>=1.6.0->tensorflow>=1.9.0->deepface) (0.43.0)\n",
            "Requirement already satisfied: MarkupSafe>=2.0 in /usr/local/lib/python3.10/dist-packages (from Jinja2>=3.0->Flask>=1.1.2->deepface) (2.1.5)\n",
            "Requirement already satisfied: google-auth<3,>=1.6.3 in /usr/local/lib/python3.10/dist-packages (from tensorboard<2.16,>=2.15->tensorflow>=1.9.0->deepface) (2.27.0)\n",
            "Requirement already satisfied: google-auth-oauthlib<2,>=0.5 in /usr/local/lib/python3.10/dist-packages (from tensorboard<2.16,>=2.15->tensorflow>=1.9.0->deepface) (1.2.0)\n",
            "Requirement already satisfied: markdown>=2.6.8 in /usr/local/lib/python3.10/dist-packages (from tensorboard<2.16,>=2.15->tensorflow>=1.9.0->deepface) (3.6)\n",
            "Requirement already satisfied: tensorboard-data-server<0.8.0,>=0.7.0 in /usr/local/lib/python3.10/dist-packages (from tensorboard<2.16,>=2.15->tensorflow>=1.9.0->deepface) (0.7.2)\n",
            "Requirement already satisfied: soupsieve>1.2 in /usr/local/lib/python3.10/dist-packages (from beautifulsoup4->gdown>=3.10.1->deepface) (2.5)\n",
            "Requirement already satisfied: PySocks!=1.5.7,>=1.5.6 in /usr/local/lib/python3.10/dist-packages (from requests>=2.27.1->deepface) (1.7.1)\n",
            "Requirement already satisfied: cachetools<6.0,>=2.0.0 in /usr/local/lib/python3.10/dist-packages (from google-auth<3,>=1.6.3->tensorboard<2.16,>=2.15->tensorflow>=1.9.0->deepface) (5.3.3)\n",
            "Requirement already satisfied: pyasn1-modules>=0.2.1 in /usr/local/lib/python3.10/dist-packages (from google-auth<3,>=1.6.3->tensorboard<2.16,>=2.15->tensorflow>=1.9.0->deepface) (0.4.0)\n",
            "Requirement already satisfied: rsa<5,>=3.1.4 in /usr/local/lib/python3.10/dist-packages (from google-auth<3,>=1.6.3->tensorboard<2.16,>=2.15->tensorflow>=1.9.0->deepface) (4.9)\n",
            "Requirement already satisfied: requests-oauthlib>=0.7.0 in /usr/local/lib/python3.10/dist-packages (from google-auth-oauthlib<2,>=0.5->tensorboard<2.16,>=2.15->tensorflow>=1.9.0->deepface) (1.3.1)\n",
            "Requirement already satisfied: pyasn1<0.7.0,>=0.4.6 in /usr/local/lib/python3.10/dist-packages (from pyasn1-modules>=0.2.1->google-auth<3,>=1.6.3->tensorboard<2.16,>=2.15->tensorflow>=1.9.0->deepface) (0.6.0)\n",
            "Requirement already satisfied: oauthlib>=3.0.0 in /usr/local/lib/python3.10/dist-packages (from requests-oauthlib>=0.7.0->google-auth-oauthlib<2,>=0.5->tensorboard<2.16,>=2.15->tensorflow>=1.9.0->deepface) (3.2.2)\n"
          ]
        }
      ],
      "source": [
        "pip install deepface"
      ]
    },
    {
      "cell_type": "code",
      "source": [
        "from deepface import DeepFace"
      ],
      "metadata": {
        "id": "YUrWSxWtZ8Q9"
      },
      "execution_count": null,
      "outputs": []
    },
    {
      "cell_type": "code",
      "source": [
        "import pandas as pd\n",
        "import matplotlib.pyplot as plt\n",
        "import pprint\n",
        "import json"
      ],
      "metadata": {
        "id": "_ZhJBfsp1EF5"
      },
      "execution_count": null,
      "outputs": []
    },
    {
      "cell_type": "code",
      "source": [
        "from google.colab import drive\n",
        "drive.mount('/content/drive')"
      ],
      "metadata": {
        "colab": {
          "base_uri": "https://localhost:8080/"
        },
        "id": "O_vp2-p5aSog",
        "outputId": "fa0a9c90-f5bc-4db8-b616-5da070819e75"
      },
      "execution_count": null,
      "outputs": [
        {
          "output_type": "stream",
          "name": "stdout",
          "text": [
            "Drive already mounted at /content/drive; to attempt to forcibly remount, call drive.mount(\"/content/drive\", force_remount=True).\n"
          ]
        }
      ]
    },
    {
      "cell_type": "code",
      "source": [
        "pp = pprint.PrettyPrinter(indent=4)"
      ],
      "metadata": {
        "id": "IeT8Dtd9dUC5"
      },
      "execution_count": null,
      "outputs": []
    },
    {
      "cell_type": "code",
      "source": [
        "# similarity metrics  => distance_metric\n",
        "metrics = [\"cosine\", \"euclidean\", \"euclidean_l2\"]\n",
        "\n",
        "# recognition models  => model_name\n",
        "models = [\n",
        "  \"VGG-Face\",\n",
        "  \"Facenet\",\n",
        "  \"OpenFace\",\n",
        "  \"ArcFace\",\n",
        "  \"SFace\",\n",
        "  \"GhostFaceNet\",\n",
        "]\n",
        "\n",
        "# detector models   => detector_backend\n",
        "backends = [\n",
        "  'opencv',\n",
        "  'ssd',\n",
        "  'dlib',\n",
        "  'fastmtcnn',\n",
        "  'retinaface',\n",
        "  'mediapipe',\n",
        "  'yolov8',\n",
        "]"
      ],
      "metadata": {
        "id": "Uq6iDjw_isiu"
      },
      "execution_count": null,
      "outputs": []
    },
    {
      "cell_type": "code",
      "source": [],
      "metadata": {
        "id": "4e2GvmKQ_Iqj"
      },
      "execution_count": null,
      "outputs": []
    },
    {
      "cell_type": "code",
      "source": [
        "# model_used = 'vggFace'\n",
        "# crop_type = 'Wheat_RGB'\n",
        "# upload_path ='drive/My Drive/CoLab/ACPS/DeepFace_output/' + crop_type + model_used + '.txt'\n",
        "\n",
        "# my_df = dfs[0]\n",
        "# my_df.to_csv(upload_path, index=False)\n"
      ],
      "metadata": {
        "id": "hptqEKrP5rjc"
      },
      "execution_count": null,
      "outputs": []
    },
    {
      "cell_type": "markdown",
      "source": [
        "# **`Wheat RGB`**"
      ],
      "metadata": {
        "id": "K0mLBlQrIF_m"
      }
    },
    {
      "cell_type": "code",
      "source": [
        "for plant_type in range (1,5):\n",
        "\n",
        "    for model in models:\n",
        "\n",
        "        result = DeepFace.find(img_path = 'drive/My Drive/CoLab/ACPS/PlantPersona_data/Wheat/RGB/P1/IR_04416.png',\n",
        "                              db_path = 'drive/My Drive/CoLab/ACPS/PlantPersona_data/Wheat/RGB/P' + str(plant_type),\n",
        "                              enforce_detection = False,\n",
        "                              distance_metric = metrics[2],\n",
        "                              model_name = model)\n",
        "\n",
        "        model_used = model\n",
        "        upload_path ='drive/My Drive/CoLab/ACPS/DeepFace_output/Wheat_RGB/P' + str(plant_type) + '/' + str(model_used) + '.txt'\n",
        "        my_df = result[0]\n",
        "        my_df.to_csv(upload_path, index = False)\n",
        "\n",
        "        print(\"\\nOUTPUT saved to : \", upload_path)\n"
      ],
      "metadata": {
        "colab": {
          "base_uri": "https://localhost:8080/"
        },
        "id": "593jKcdG_Ils",
        "outputId": "03734710-aca5-4d2a-de51-161357a7803f"
      },
      "execution_count": null,
      "outputs": [
        {
          "output_type": "stream",
          "name": "stdout",
          "text": [
            "24-04-23 22:54:54 - Found 0 newly added image(s), 0 removed image(s), 36 replaced image(s).\n"
          ]
        },
        {
          "output_type": "stream",
          "name": "stderr",
          "text": [
            "Finding representations: 100%|██████████| 36/36 [00:33<00:00,  1.09it/s]\n"
          ]
        },
        {
          "output_type": "stream",
          "name": "stdout",
          "text": [
            "24-04-23 22:55:28 - There are now 36 representations in ds_model_vggface_detector_opencv_aligned_normalization_base_expand_0.pkl\n",
            "24-04-23 22:55:28 - Searching drive/My Drive/CoLab/ACPS/PlantPersona_data/Wheat/RGB/P1/IR_04416.png in 36 length datastore\n",
            "24-04-23 22:55:29 - find function duration 34.73219037055969 seconds\n",
            "\n",
            "OUTPUT saved to :  drive/My Drive/CoLab/ACPS/DeepFace_output/Wheat_RGB/P1/VGG-Face.txt\n",
            "24-04-23 22:55:29 - Found 36 newly added image(s), 0 removed image(s), 0 replaced image(s).\n"
          ]
        },
        {
          "output_type": "stream",
          "name": "stderr",
          "text": [
            "Finding representations: 100%|██████████| 36/36 [00:21<00:00,  1.69it/s]\n"
          ]
        },
        {
          "output_type": "stream",
          "name": "stdout",
          "text": [
            "24-04-23 22:55:51 - There are now 36 representations in ds_model_facenet_detector_opencv_aligned_normalization_base_expand_0.pkl\n",
            "24-04-23 22:55:51 - Searching drive/My Drive/CoLab/ACPS/PlantPersona_data/Wheat/RGB/P1/IR_04416.png in 36 length datastore\n",
            "24-04-23 22:55:51 - find function duration 22.34519052505493 seconds\n",
            "\n",
            "OUTPUT saved to :  drive/My Drive/CoLab/ACPS/DeepFace_output/Wheat_RGB/P1/Facenet.txt\n",
            "24-04-23 22:55:51 - Found 36 newly added image(s), 0 removed image(s), 0 replaced image(s).\n"
          ]
        },
        {
          "output_type": "stream",
          "name": "stderr",
          "text": [
            "Finding representations: 100%|██████████| 36/36 [00:10<00:00,  3.34it/s]\n"
          ]
        },
        {
          "output_type": "stream",
          "name": "stdout",
          "text": [
            "24-04-23 22:56:02 - There are now 36 representations in ds_model_openface_detector_opencv_aligned_normalization_base_expand_0.pkl\n",
            "24-04-23 22:56:02 - Searching drive/My Drive/CoLab/ACPS/PlantPersona_data/Wheat/RGB/P1/IR_04416.png in 36 length datastore\n",
            "24-04-23 22:56:03 - find function duration 11.356404542922974 seconds\n",
            "\n",
            "OUTPUT saved to :  drive/My Drive/CoLab/ACPS/DeepFace_output/Wheat_RGB/P1/OpenFace.txt\n",
            "24-04-23 22:56:03 - Found 36 newly added image(s), 0 removed image(s), 0 replaced image(s).\n"
          ]
        },
        {
          "output_type": "stream",
          "name": "stderr",
          "text": [
            "Finding representations: 100%|██████████| 36/36 [00:24<00:00,  1.48it/s]\n"
          ]
        },
        {
          "output_type": "stream",
          "name": "stdout",
          "text": [
            "24-04-23 22:56:27 - There are now 36 representations in ds_model_arcface_detector_opencv_aligned_normalization_base_expand_0.pkl\n",
            "24-04-23 22:56:27 - Searching drive/My Drive/CoLab/ACPS/PlantPersona_data/Wheat/RGB/P1/IR_04416.png in 36 length datastore\n",
            "24-04-23 22:56:29 - find function duration 26.00667691230774 seconds\n",
            "\n",
            "OUTPUT saved to :  drive/My Drive/CoLab/ACPS/DeepFace_output/Wheat_RGB/P1/ArcFace.txt\n",
            "24-04-23 22:56:29 - Found 36 newly added image(s), 0 removed image(s), 0 replaced image(s).\n"
          ]
        },
        {
          "output_type": "stream",
          "name": "stderr",
          "text": [
            "Finding representations: 100%|██████████| 36/36 [00:06<00:00,  5.20it/s]\n"
          ]
        },
        {
          "output_type": "stream",
          "name": "stdout",
          "text": [
            "24-04-23 22:56:36 - There are now 36 representations in ds_model_sface_detector_opencv_aligned_normalization_base_expand_0.pkl\n",
            "24-04-23 22:56:36 - Searching drive/My Drive/CoLab/ACPS/PlantPersona_data/Wheat/RGB/P1/IR_04416.png in 36 length datastore\n",
            "24-04-23 22:56:36 - find function duration 7.343140363693237 seconds\n",
            "\n",
            "OUTPUT saved to :  drive/My Drive/CoLab/ACPS/DeepFace_output/Wheat_RGB/P1/SFace.txt\n",
            "24-04-23 22:56:36 - Found 0 newly added image(s), 0 removed image(s), 36 replaced image(s).\n"
          ]
        },
        {
          "output_type": "stream",
          "name": "stderr",
          "text": [
            "Finding representations: 100%|██████████| 36/36 [00:17<00:00,  2.02it/s]\n"
          ]
        },
        {
          "output_type": "stream",
          "name": "stdout",
          "text": [
            "24-04-23 22:56:54 - There are now 36 representations in ds_model_ghostfacenet_detector_opencv_aligned_normalization_base_expand_0.pkl\n",
            "24-04-23 22:56:54 - Searching drive/My Drive/CoLab/ACPS/PlantPersona_data/Wheat/RGB/P1/IR_04416.png in 36 length datastore\n",
            "24-04-23 22:56:55 - find function duration 18.757668495178223 seconds\n",
            "\n",
            "OUTPUT saved to :  drive/My Drive/CoLab/ACPS/DeepFace_output/Wheat_RGB/P1/GhostFaceNet.txt\n",
            "24-04-23 22:56:55 - Found 0 newly added image(s), 0 removed image(s), 35 replaced image(s).\n"
          ]
        },
        {
          "output_type": "stream",
          "name": "stderr",
          "text": [
            "Finding representations: 100%|██████████| 35/35 [00:30<00:00,  1.13it/s]\n"
          ]
        },
        {
          "output_type": "stream",
          "name": "stdout",
          "text": [
            "24-04-23 22:57:26 - There are now 35 representations in ds_model_vggface_detector_opencv_aligned_normalization_base_expand_0.pkl\n",
            "24-04-23 22:57:26 - Searching drive/My Drive/CoLab/ACPS/PlantPersona_data/Wheat/RGB/P1/IR_04416.png in 35 length datastore\n",
            "24-04-23 22:57:27 - find function duration 32.30674481391907 seconds\n",
            "\n",
            "OUTPUT saved to :  drive/My Drive/CoLab/ACPS/DeepFace_output/Wheat_RGB/P2/VGG-Face.txt\n",
            "24-04-23 22:57:28 - Found 35 newly added image(s), 0 removed image(s), 0 replaced image(s).\n"
          ]
        },
        {
          "output_type": "stream",
          "name": "stderr",
          "text": [
            "Finding representations: 100%|██████████| 35/35 [00:20<00:00,  1.73it/s]\n"
          ]
        },
        {
          "output_type": "stream",
          "name": "stdout",
          "text": [
            "24-04-23 22:57:48 - There are now 35 representations in ds_model_facenet_detector_opencv_aligned_normalization_base_expand_0.pkl\n",
            "24-04-23 22:57:48 - Searching drive/My Drive/CoLab/ACPS/PlantPersona_data/Wheat/RGB/P1/IR_04416.png in 35 length datastore\n",
            "24-04-23 22:57:48 - find function duration 20.984117031097412 seconds\n",
            "\n",
            "OUTPUT saved to :  drive/My Drive/CoLab/ACPS/DeepFace_output/Wheat_RGB/P2/Facenet.txt\n",
            "24-04-23 22:57:49 - Found 35 newly added image(s), 0 removed image(s), 0 replaced image(s).\n"
          ]
        },
        {
          "output_type": "stream",
          "name": "stderr",
          "text": [
            "Finding representations: 100%|██████████| 35/35 [00:10<00:00,  3.40it/s]\n"
          ]
        },
        {
          "output_type": "stream",
          "name": "stdout",
          "text": [
            "24-04-23 22:57:59 - There are now 35 representations in ds_model_openface_detector_opencv_aligned_normalization_base_expand_0.pkl\n",
            "24-04-23 22:57:59 - Searching drive/My Drive/CoLab/ACPS/PlantPersona_data/Wheat/RGB/P1/IR_04416.png in 35 length datastore\n",
            "24-04-23 22:57:59 - find function duration 10.81022310256958 seconds\n",
            "\n",
            "OUTPUT saved to :  drive/My Drive/CoLab/ACPS/DeepFace_output/Wheat_RGB/P2/OpenFace.txt\n",
            "24-04-23 22:57:59 - Found 35 newly added image(s), 0 removed image(s), 0 replaced image(s).\n"
          ]
        },
        {
          "output_type": "stream",
          "name": "stderr",
          "text": [
            "Finding representations: 100%|██████████| 35/35 [00:18<00:00,  1.89it/s]\n"
          ]
        },
        {
          "output_type": "stream",
          "name": "stdout",
          "text": [
            "24-04-23 22:58:18 - There are now 35 representations in ds_model_arcface_detector_opencv_aligned_normalization_base_expand_0.pkl\n",
            "24-04-23 22:58:18 - Searching drive/My Drive/CoLab/ACPS/PlantPersona_data/Wheat/RGB/P1/IR_04416.png in 35 length datastore\n",
            "24-04-23 22:58:18 - find function duration 19.312587022781372 seconds\n",
            "\n",
            "OUTPUT saved to :  drive/My Drive/CoLab/ACPS/DeepFace_output/Wheat_RGB/P2/ArcFace.txt\n",
            "24-04-23 22:58:19 - Found 35 newly added image(s), 0 removed image(s), 0 replaced image(s).\n"
          ]
        },
        {
          "output_type": "stream",
          "name": "stderr",
          "text": [
            "Finding representations: 100%|██████████| 35/35 [00:09<00:00,  3.58it/s]\n"
          ]
        },
        {
          "output_type": "stream",
          "name": "stdout",
          "text": [
            "24-04-23 22:58:28 - There are now 35 representations in ds_model_sface_detector_opencv_aligned_normalization_base_expand_0.pkl\n",
            "24-04-23 22:58:28 - Searching drive/My Drive/CoLab/ACPS/PlantPersona_data/Wheat/RGB/P1/IR_04416.png in 35 length datastore\n",
            "24-04-23 22:58:29 - find function duration 10.348238229751587 seconds\n",
            "\n",
            "OUTPUT saved to :  drive/My Drive/CoLab/ACPS/DeepFace_output/Wheat_RGB/P2/SFace.txt\n",
            "24-04-23 22:58:29 - Found 35 newly added image(s), 0 removed image(s), 0 replaced image(s).\n"
          ]
        },
        {
          "output_type": "stream",
          "name": "stderr",
          "text": [
            "Finding representations: 100%|██████████| 35/35 [00:22<00:00,  1.54it/s]\n"
          ]
        },
        {
          "output_type": "stream",
          "name": "stdout",
          "text": [
            "24-04-23 22:58:52 - There are now 35 representations in ds_model_ghostfacenet_detector_opencv_aligned_normalization_base_expand_0.pkl\n",
            "24-04-23 22:58:52 - Searching drive/My Drive/CoLab/ACPS/PlantPersona_data/Wheat/RGB/P1/IR_04416.png in 35 length datastore\n",
            "24-04-23 22:58:53 - find function duration 23.86741828918457 seconds\n",
            "\n",
            "OUTPUT saved to :  drive/My Drive/CoLab/ACPS/DeepFace_output/Wheat_RGB/P2/GhostFaceNet.txt\n",
            "24-04-23 22:58:53 - Found 0 newly added image(s), 0 removed image(s), 35 replaced image(s).\n"
          ]
        },
        {
          "output_type": "stream",
          "name": "stderr",
          "text": [
            "Finding representations: 100%|██████████| 35/35 [00:35<00:00,  1.00s/it]\n"
          ]
        },
        {
          "output_type": "stream",
          "name": "stdout",
          "text": [
            "24-04-23 22:59:28 - There are now 35 representations in ds_model_vggface_detector_opencv_aligned_normalization_base_expand_0.pkl\n",
            "24-04-23 22:59:28 - Searching drive/My Drive/CoLab/ACPS/PlantPersona_data/Wheat/RGB/P1/IR_04416.png in 35 length datastore\n",
            "24-04-23 22:59:29 - find function duration 36.19448471069336 seconds\n",
            "\n",
            "OUTPUT saved to :  drive/My Drive/CoLab/ACPS/DeepFace_output/Wheat_RGB/P3/VGG-Face.txt\n",
            "24-04-23 22:59:29 - Found 35 newly added image(s), 0 removed image(s), 0 replaced image(s).\n"
          ]
        },
        {
          "output_type": "stream",
          "name": "stderr",
          "text": [
            "Finding representations: 100%|██████████| 35/35 [00:21<00:00,  1.66it/s]\n"
          ]
        },
        {
          "output_type": "stream",
          "name": "stdout",
          "text": [
            "24-04-23 22:59:50 - There are now 35 representations in ds_model_facenet_detector_opencv_aligned_normalization_base_expand_0.pkl\n",
            "24-04-23 22:59:50 - Searching drive/My Drive/CoLab/ACPS/PlantPersona_data/Wheat/RGB/P1/IR_04416.png in 35 length datastore\n",
            "24-04-23 22:59:51 - find function duration 21.84786319732666 seconds\n",
            "\n",
            "OUTPUT saved to :  drive/My Drive/CoLab/ACPS/DeepFace_output/Wheat_RGB/P3/Facenet.txt\n",
            "24-04-23 22:59:51 - Found 35 newly added image(s), 0 removed image(s), 0 replaced image(s).\n"
          ]
        },
        {
          "output_type": "stream",
          "name": "stderr",
          "text": [
            "Finding representations: 100%|██████████| 35/35 [00:09<00:00,  3.52it/s]\n"
          ]
        },
        {
          "output_type": "stream",
          "name": "stdout",
          "text": [
            "24-04-23 23:00:01 - There are now 35 representations in ds_model_openface_detector_opencv_aligned_normalization_base_expand_0.pkl\n",
            "24-04-23 23:00:01 - Searching drive/My Drive/CoLab/ACPS/PlantPersona_data/Wheat/RGB/P1/IR_04416.png in 35 length datastore\n",
            "24-04-23 23:00:02 - find function duration 10.711936473846436 seconds\n",
            "\n",
            "OUTPUT saved to :  drive/My Drive/CoLab/ACPS/DeepFace_output/Wheat_RGB/P3/OpenFace.txt\n",
            "24-04-23 23:00:02 - Found 35 newly added image(s), 0 removed image(s), 0 replaced image(s).\n"
          ]
        },
        {
          "output_type": "stream",
          "name": "stderr",
          "text": [
            "Finding representations: 100%|██████████| 35/35 [00:20<00:00,  1.75it/s]\n"
          ]
        },
        {
          "output_type": "stream",
          "name": "stdout",
          "text": [
            "24-04-23 23:00:22 - There are now 35 representations in ds_model_arcface_detector_opencv_aligned_normalization_base_expand_0.pkl\n",
            "24-04-23 23:00:22 - Searching drive/My Drive/CoLab/ACPS/PlantPersona_data/Wheat/RGB/P1/IR_04416.png in 35 length datastore\n",
            "24-04-23 23:00:22 - find function duration 20.80140995979309 seconds\n",
            "\n",
            "OUTPUT saved to :  drive/My Drive/CoLab/ACPS/DeepFace_output/Wheat_RGB/P3/ArcFace.txt\n",
            "24-04-23 23:00:23 - Found 35 newly added image(s), 0 removed image(s), 0 replaced image(s).\n"
          ]
        },
        {
          "output_type": "stream",
          "name": "stderr",
          "text": [
            "Finding representations: 100%|██████████| 35/35 [00:06<00:00,  5.10it/s]\n"
          ]
        },
        {
          "output_type": "stream",
          "name": "stdout",
          "text": [
            "24-04-23 23:00:30 - There are now 35 representations in ds_model_sface_detector_opencv_aligned_normalization_base_expand_0.pkl\n",
            "24-04-23 23:00:30 - Searching drive/My Drive/CoLab/ACPS/PlantPersona_data/Wheat/RGB/P1/IR_04416.png in 35 length datastore\n",
            "24-04-23 23:00:30 - find function duration 7.441707134246826 seconds\n",
            "\n",
            "OUTPUT saved to :  drive/My Drive/CoLab/ACPS/DeepFace_output/Wheat_RGB/P3/SFace.txt\n",
            "24-04-23 23:00:30 - Found 35 newly added image(s), 0 removed image(s), 0 replaced image(s).\n"
          ]
        },
        {
          "output_type": "stream",
          "name": "stderr",
          "text": [
            "Finding representations: 100%|██████████| 35/35 [00:17<00:00,  1.95it/s]\n"
          ]
        },
        {
          "output_type": "stream",
          "name": "stdout",
          "text": [
            "24-04-23 23:00:48 - There are now 35 representations in ds_model_ghostfacenet_detector_opencv_aligned_normalization_base_expand_0.pkl\n",
            "24-04-23 23:00:48 - Searching drive/My Drive/CoLab/ACPS/PlantPersona_data/Wheat/RGB/P1/IR_04416.png in 35 length datastore\n",
            "24-04-23 23:00:49 - find function duration 18.741833686828613 seconds\n",
            "\n",
            "OUTPUT saved to :  drive/My Drive/CoLab/ACPS/DeepFace_output/Wheat_RGB/P3/GhostFaceNet.txt\n",
            "24-04-23 23:00:49 - Found 0 newly added image(s), 0 removed image(s), 35 replaced image(s).\n"
          ]
        },
        {
          "output_type": "stream",
          "name": "stderr",
          "text": [
            "Finding representations: 100%|██████████| 35/35 [00:28<00:00,  1.21it/s]\n"
          ]
        },
        {
          "output_type": "stream",
          "name": "stdout",
          "text": [
            "24-04-23 23:01:18 - There are now 35 representations in ds_model_vggface_detector_opencv_aligned_normalization_base_expand_0.pkl\n",
            "24-04-23 23:01:18 - Searching drive/My Drive/CoLab/ACPS/PlantPersona_data/Wheat/RGB/P1/IR_04416.png in 35 length datastore\n",
            "24-04-23 23:01:19 - find function duration 29.93067765235901 seconds\n",
            "\n",
            "OUTPUT saved to :  drive/My Drive/CoLab/ACPS/DeepFace_output/Wheat_RGB/P4/VGG-Face.txt\n",
            "24-04-23 23:01:19 - Found 35 newly added image(s), 0 removed image(s), 0 replaced image(s).\n"
          ]
        },
        {
          "output_type": "stream",
          "name": "stderr",
          "text": [
            "Finding representations: 100%|██████████| 35/35 [00:19<00:00,  1.84it/s]\n"
          ]
        },
        {
          "output_type": "stream",
          "name": "stdout",
          "text": [
            "24-04-23 23:01:38 - There are now 35 representations in ds_model_facenet_detector_opencv_aligned_normalization_base_expand_0.pkl\n",
            "24-04-23 23:01:38 - Searching drive/My Drive/CoLab/ACPS/PlantPersona_data/Wheat/RGB/P1/IR_04416.png in 35 length datastore\n",
            "24-04-23 23:01:39 - find function duration 19.91673493385315 seconds\n",
            "\n",
            "OUTPUT saved to :  drive/My Drive/CoLab/ACPS/DeepFace_output/Wheat_RGB/P4/Facenet.txt\n",
            "24-04-23 23:01:39 - Found 35 newly added image(s), 0 removed image(s), 0 replaced image(s).\n"
          ]
        },
        {
          "output_type": "stream",
          "name": "stderr",
          "text": [
            "Finding representations: 100%|██████████| 35/35 [00:10<00:00,  3.26it/s]\n"
          ]
        },
        {
          "output_type": "stream",
          "name": "stdout",
          "text": [
            "24-04-23 23:01:50 - There are now 35 representations in ds_model_openface_detector_opencv_aligned_normalization_base_expand_0.pkl\n",
            "24-04-23 23:01:50 - Searching drive/My Drive/CoLab/ACPS/PlantPersona_data/Wheat/RGB/P1/IR_04416.png in 35 length datastore\n",
            "24-04-23 23:01:50 - find function duration 11.230270862579346 seconds\n",
            "\n",
            "OUTPUT saved to :  drive/My Drive/CoLab/ACPS/DeepFace_output/Wheat_RGB/P4/OpenFace.txt\n",
            "24-04-23 23:01:50 - Found 0 newly added image(s), 0 removed image(s), 35 replaced image(s).\n"
          ]
        },
        {
          "output_type": "stream",
          "name": "stderr",
          "text": [
            "Finding representations: 100%|██████████| 35/35 [00:21<00:00,  1.59it/s]\n"
          ]
        },
        {
          "output_type": "stream",
          "name": "stdout",
          "text": [
            "24-04-23 23:02:12 - There are now 35 representations in ds_model_arcface_detector_opencv_aligned_normalization_base_expand_0.pkl\n",
            "24-04-23 23:02:12 - Searching drive/My Drive/CoLab/ACPS/PlantPersona_data/Wheat/RGB/P1/IR_04416.png in 35 length datastore\n",
            "24-04-23 23:02:13 - find function duration 22.716601371765137 seconds\n",
            "\n",
            "OUTPUT saved to :  drive/My Drive/CoLab/ACPS/DeepFace_output/Wheat_RGB/P4/ArcFace.txt\n",
            "24-04-23 23:02:13 - Found 0 newly added image(s), 0 removed image(s), 35 replaced image(s).\n"
          ]
        },
        {
          "output_type": "stream",
          "name": "stderr",
          "text": [
            "Finding representations: 100%|██████████| 35/35 [00:06<00:00,  5.42it/s]\n"
          ]
        },
        {
          "output_type": "stream",
          "name": "stdout",
          "text": [
            "24-04-23 23:02:19 - There are now 35 representations in ds_model_sface_detector_opencv_aligned_normalization_base_expand_0.pkl\n",
            "24-04-23 23:02:19 - Searching drive/My Drive/CoLab/ACPS/PlantPersona_data/Wheat/RGB/P1/IR_04416.png in 35 length datastore\n",
            "24-04-23 23:02:20 - find function duration 6.862862586975098 seconds\n",
            "\n",
            "OUTPUT saved to :  drive/My Drive/CoLab/ACPS/DeepFace_output/Wheat_RGB/P4/SFace.txt\n",
            "24-04-23 23:02:20 - Found 0 newly added image(s), 0 removed image(s), 35 replaced image(s).\n"
          ]
        },
        {
          "output_type": "stream",
          "name": "stderr",
          "text": [
            "Finding representations: 100%|██████████| 35/35 [00:17<00:00,  1.99it/s]\n"
          ]
        },
        {
          "output_type": "stream",
          "name": "stdout",
          "text": [
            "24-04-23 23:02:37 - There are now 35 representations in ds_model_ghostfacenet_detector_opencv_aligned_normalization_base_expand_0.pkl\n",
            "24-04-23 23:02:37 - Searching drive/My Drive/CoLab/ACPS/PlantPersona_data/Wheat/RGB/P1/IR_04416.png in 35 length datastore\n",
            "24-04-23 23:02:38 - find function duration 18.582305192947388 seconds\n",
            "\n",
            "OUTPUT saved to :  drive/My Drive/CoLab/ACPS/DeepFace_output/Wheat_RGB/P4/GhostFaceNet.txt\n"
          ]
        }
      ]
    },
    {
      "cell_type": "markdown",
      "source": [
        "# **`Wheat Thermal`**"
      ],
      "metadata": {
        "id": "Oj8fG3ctIcSf"
      }
    },
    {
      "cell_type": "code",
      "source": [
        "for plant_type in range (1,5):\n",
        "\n",
        "    for model in models:\n",
        "\n",
        "        result = DeepFace.find(img_path = 'drive/My Drive/CoLab/ACPS/PlantPersona_data/Wheat/Thermal/P1/IR_04416.png',\n",
        "                              db_path = 'drive/My Drive/CoLab/ACPS/PlantPersona_data/Wheat/Thermal/P' + str(plant_type),\n",
        "                              enforce_detection = False,\n",
        "                              distance_metric = metrics[2],\n",
        "                              model_name = model)\n",
        "\n",
        "        model_used = model\n",
        "        upload_path ='drive/My Drive/CoLab/ACPS/DeepFace_output/Wheat_Thermal/P' + str(plant_type) + '/' + str(model_used) + '.txt'\n",
        "        my_df = result[0]\n",
        "        my_df.to_csv(upload_path, index = False)\n",
        "\n",
        "        print(\"\\nOUTPUT saved to : \", upload_path)\n"
      ],
      "metadata": {
        "colab": {
          "base_uri": "https://localhost:8080/"
        },
        "id": "vesPgZx2IsBg",
        "outputId": "00030bd7-cbe0-476a-d6db-c440ff0842a5"
      },
      "execution_count": null,
      "outputs": [
        {
          "output_type": "stream",
          "name": "stdout",
          "text": [
            "24-04-23 23:02:42 - Found 0 newly added image(s), 0 removed image(s), 36 replaced image(s).\n"
          ]
        },
        {
          "output_type": "stream",
          "name": "stderr",
          "text": [
            "Finding representations: 100%|██████████| 36/36 [00:30<00:00,  1.19it/s]\n"
          ]
        },
        {
          "output_type": "stream",
          "name": "stdout",
          "text": [
            "24-04-23 23:03:13 - There are now 36 representations in ds_model_vggface_detector_opencv_aligned_normalization_base_expand_0.pkl\n",
            "24-04-23 23:03:13 - Searching drive/My Drive/CoLab/ACPS/PlantPersona_data/Wheat/Thermal/P1/IR_04416.png in 36 length datastore\n",
            "24-04-23 23:03:13 - find function duration 31.007541179656982 seconds\n",
            "\n",
            "OUTPUT saved to :  drive/My Drive/CoLab/ACPS/DeepFace_output/Wheat_Thermal/P1/VGG-Face.txt\n",
            "24-04-23 23:03:14 - Found 36 newly added image(s), 0 removed image(s), 0 replaced image(s).\n"
          ]
        },
        {
          "output_type": "stream",
          "name": "stderr",
          "text": [
            "Finding representations: 100%|██████████| 36/36 [00:16<00:00,  2.22it/s]\n"
          ]
        },
        {
          "output_type": "stream",
          "name": "stdout",
          "text": [
            "24-04-23 23:03:30 - There are now 36 representations in ds_model_facenet_detector_opencv_aligned_normalization_base_expand_0.pkl\n",
            "24-04-23 23:03:30 - Searching drive/My Drive/CoLab/ACPS/PlantPersona_data/Wheat/Thermal/P1/IR_04416.png in 36 length datastore\n",
            "24-04-23 23:03:30 - find function duration 16.79271149635315 seconds\n",
            "\n",
            "OUTPUT saved to :  drive/My Drive/CoLab/ACPS/DeepFace_output/Wheat_Thermal/P1/Facenet.txt\n",
            "24-04-23 23:03:31 - Found 36 newly added image(s), 0 removed image(s), 0 replaced image(s).\n"
          ]
        },
        {
          "output_type": "stream",
          "name": "stderr",
          "text": [
            "Finding representations: 100%|██████████| 36/36 [00:07<00:00,  4.68it/s]\n"
          ]
        },
        {
          "output_type": "stream",
          "name": "stdout",
          "text": [
            "24-04-23 23:03:38 - There are now 36 representations in ds_model_openface_detector_opencv_aligned_normalization_base_expand_0.pkl\n",
            "24-04-23 23:03:38 - Searching drive/My Drive/CoLab/ACPS/PlantPersona_data/Wheat/Thermal/P1/IR_04416.png in 36 length datastore\n",
            "24-04-23 23:03:38 - find function duration 8.0602126121521 seconds\n",
            "\n",
            "OUTPUT saved to :  drive/My Drive/CoLab/ACPS/DeepFace_output/Wheat_Thermal/P1/OpenFace.txt\n",
            "24-04-23 23:03:39 - Found 36 newly added image(s), 0 removed image(s), 0 replaced image(s).\n"
          ]
        },
        {
          "output_type": "stream",
          "name": "stderr",
          "text": [
            "Finding representations: 100%|██████████| 36/36 [00:15<00:00,  2.30it/s]\n"
          ]
        },
        {
          "output_type": "stream",
          "name": "stdout",
          "text": [
            "24-04-23 23:03:54 - There are now 36 representations in ds_model_arcface_detector_opencv_aligned_normalization_base_expand_0.pkl\n",
            "24-04-23 23:03:54 - Searching drive/My Drive/CoLab/ACPS/PlantPersona_data/Wheat/Thermal/P1/IR_04416.png in 36 length datastore\n",
            "24-04-23 23:03:55 - find function duration 16.215317964553833 seconds\n",
            "\n",
            "OUTPUT saved to :  drive/My Drive/CoLab/ACPS/DeepFace_output/Wheat_Thermal/P1/ArcFace.txt\n",
            "24-04-23 23:03:55 - Found 36 newly added image(s), 0 removed image(s), 0 replaced image(s).\n"
          ]
        },
        {
          "output_type": "stream",
          "name": "stderr",
          "text": [
            "Finding representations: 100%|██████████| 36/36 [00:03<00:00, 10.75it/s]\n"
          ]
        },
        {
          "output_type": "stream",
          "name": "stdout",
          "text": [
            "24-04-23 23:03:58 - There are now 36 representations in ds_model_sface_detector_opencv_aligned_normalization_base_expand_0.pkl\n",
            "24-04-23 23:03:58 - Searching drive/My Drive/CoLab/ACPS/PlantPersona_data/Wheat/Thermal/P1/IR_04416.png in 36 length datastore\n",
            "24-04-23 23:03:58 - find function duration 3.645516872406006 seconds\n",
            "\n",
            "OUTPUT saved to :  drive/My Drive/CoLab/ACPS/DeepFace_output/Wheat_Thermal/P1/SFace.txt\n",
            "24-04-23 23:03:58 - Found 36 newly added image(s), 0 removed image(s), 0 replaced image(s).\n"
          ]
        },
        {
          "output_type": "stream",
          "name": "stderr",
          "text": [
            "Finding representations: 100%|██████████| 36/36 [00:13<00:00,  2.58it/s]\n"
          ]
        },
        {
          "output_type": "stream",
          "name": "stdout",
          "text": [
            "24-04-23 23:04:12 - There are now 36 representations in ds_model_ghostfacenet_detector_opencv_aligned_normalization_base_expand_0.pkl\n",
            "24-04-23 23:04:12 - Searching drive/My Drive/CoLab/ACPS/PlantPersona_data/Wheat/Thermal/P1/IR_04416.png in 36 length datastore\n",
            "24-04-23 23:04:13 - find function duration 14.58862853050232 seconds\n",
            "\n",
            "OUTPUT saved to :  drive/My Drive/CoLab/ACPS/DeepFace_output/Wheat_Thermal/P1/GhostFaceNet.txt\n",
            "24-04-23 23:04:27 - Found 35 newly added image(s), 0 removed image(s), 0 replaced image(s).\n"
          ]
        },
        {
          "output_type": "stream",
          "name": "stderr",
          "text": [
            "Finding representations: 100%|██████████| 35/35 [00:25<00:00,  1.37it/s]\n"
          ]
        },
        {
          "output_type": "stream",
          "name": "stdout",
          "text": [
            "24-04-23 23:04:52 - There are now 35 representations in ds_model_vggface_detector_opencv_aligned_normalization_base_expand_0.pkl\n",
            "24-04-23 23:04:52 - Searching drive/My Drive/CoLab/ACPS/PlantPersona_data/Wheat/Thermal/P1/IR_04416.png in 35 length datastore\n",
            "24-04-23 23:04:53 - find function duration 39.975223541259766 seconds\n",
            "\n",
            "OUTPUT saved to :  drive/My Drive/CoLab/ACPS/DeepFace_output/Wheat_Thermal/P2/VGG-Face.txt\n",
            "24-04-23 23:04:53 - Found 35 newly added image(s), 0 removed image(s), 0 replaced image(s).\n"
          ]
        },
        {
          "output_type": "stream",
          "name": "stderr",
          "text": [
            "Finding representations: 100%|██████████| 35/35 [00:16<00:00,  2.18it/s]\n"
          ]
        },
        {
          "output_type": "stream",
          "name": "stdout",
          "text": [
            "24-04-23 23:05:09 - There are now 35 representations in ds_model_facenet_detector_opencv_aligned_normalization_base_expand_0.pkl\n",
            "24-04-23 23:05:09 - Searching drive/My Drive/CoLab/ACPS/PlantPersona_data/Wheat/Thermal/P1/IR_04416.png in 35 length datastore\n",
            "24-04-23 23:05:10 - find function duration 16.922560930252075 seconds\n",
            "\n",
            "OUTPUT saved to :  drive/My Drive/CoLab/ACPS/DeepFace_output/Wheat_Thermal/P2/Facenet.txt\n",
            "24-04-23 23:05:10 - Found 35 newly added image(s), 0 removed image(s), 0 replaced image(s).\n"
          ]
        },
        {
          "output_type": "stream",
          "name": "stderr",
          "text": [
            "Finding representations: 100%|██████████| 35/35 [00:09<00:00,  3.74it/s]\n"
          ]
        },
        {
          "output_type": "stream",
          "name": "stdout",
          "text": [
            "24-04-23 23:05:19 - There are now 35 representations in ds_model_openface_detector_opencv_aligned_normalization_base_expand_0.pkl\n",
            "24-04-23 23:05:19 - Searching drive/My Drive/CoLab/ACPS/PlantPersona_data/Wheat/Thermal/P1/IR_04416.png in 35 length datastore\n",
            "24-04-23 23:05:20 - find function duration 9.775990962982178 seconds\n",
            "\n",
            "OUTPUT saved to :  drive/My Drive/CoLab/ACPS/DeepFace_output/Wheat_Thermal/P2/OpenFace.txt\n",
            "24-04-23 23:05:20 - Found 35 newly added image(s), 0 removed image(s), 0 replaced image(s).\n"
          ]
        },
        {
          "output_type": "stream",
          "name": "stderr",
          "text": [
            "Finding representations: 100%|██████████| 35/35 [00:15<00:00,  2.30it/s]\n"
          ]
        },
        {
          "output_type": "stream",
          "name": "stdout",
          "text": [
            "24-04-23 23:05:35 - There are now 35 representations in ds_model_arcface_detector_opencv_aligned_normalization_base_expand_0.pkl\n",
            "24-04-23 23:05:35 - Searching drive/My Drive/CoLab/ACPS/PlantPersona_data/Wheat/Thermal/P1/IR_04416.png in 35 length datastore\n",
            "24-04-23 23:05:35 - find function duration 15.819550275802612 seconds\n",
            "\n",
            "OUTPUT saved to :  drive/My Drive/CoLab/ACPS/DeepFace_output/Wheat_Thermal/P2/ArcFace.txt\n",
            "24-04-23 23:05:36 - Found 35 newly added image(s), 0 removed image(s), 0 replaced image(s).\n"
          ]
        },
        {
          "output_type": "stream",
          "name": "stderr",
          "text": [
            "Finding representations: 100%|██████████| 35/35 [00:03<00:00, 10.22it/s]\n"
          ]
        },
        {
          "output_type": "stream",
          "name": "stdout",
          "text": [
            "24-04-23 23:05:39 - There are now 35 representations in ds_model_sface_detector_opencv_aligned_normalization_base_expand_0.pkl\n",
            "24-04-23 23:05:39 - Searching drive/My Drive/CoLab/ACPS/PlantPersona_data/Wheat/Thermal/P1/IR_04416.png in 35 length datastore\n",
            "24-04-23 23:05:39 - find function duration 3.700221061706543 seconds\n",
            "\n",
            "OUTPUT saved to :  drive/My Drive/CoLab/ACPS/DeepFace_output/Wheat_Thermal/P2/SFace.txt\n",
            "24-04-23 23:05:39 - Found 35 newly added image(s), 0 removed image(s), 0 replaced image(s).\n"
          ]
        },
        {
          "output_type": "stream",
          "name": "stderr",
          "text": [
            "Finding representations: 100%|██████████| 35/35 [00:13<00:00,  2.53it/s]\n"
          ]
        },
        {
          "output_type": "stream",
          "name": "stdout",
          "text": [
            "24-04-23 23:05:53 - There are now 35 representations in ds_model_ghostfacenet_detector_opencv_aligned_normalization_base_expand_0.pkl\n",
            "24-04-23 23:05:53 - Searching drive/My Drive/CoLab/ACPS/PlantPersona_data/Wheat/Thermal/P1/IR_04416.png in 35 length datastore\n",
            "24-04-23 23:05:54 - find function duration 14.405827045440674 seconds\n",
            "\n",
            "OUTPUT saved to :  drive/My Drive/CoLab/ACPS/DeepFace_output/Wheat_Thermal/P2/GhostFaceNet.txt\n",
            "24-04-23 23:06:07 - Found 35 newly added image(s), 0 removed image(s), 0 replaced image(s).\n"
          ]
        },
        {
          "output_type": "stream",
          "name": "stderr",
          "text": [
            "Finding representations: 100%|██████████| 35/35 [00:25<00:00,  1.38it/s]\n"
          ]
        },
        {
          "output_type": "stream",
          "name": "stdout",
          "text": [
            "24-04-23 23:06:33 - There are now 35 representations in ds_model_vggface_detector_opencv_aligned_normalization_base_expand_0.pkl\n",
            "24-04-23 23:06:33 - Searching drive/My Drive/CoLab/ACPS/PlantPersona_data/Wheat/Thermal/P1/IR_04416.png in 35 length datastore\n",
            "24-04-23 23:06:33 - find function duration 39.842121839523315 seconds\n",
            "\n",
            "OUTPUT saved to :  drive/My Drive/CoLab/ACPS/DeepFace_output/Wheat_Thermal/P3/VGG-Face.txt\n",
            "24-04-23 23:06:34 - Found 35 newly added image(s), 0 removed image(s), 0 replaced image(s).\n"
          ]
        },
        {
          "output_type": "stream",
          "name": "stderr",
          "text": [
            "Finding representations: 100%|██████████| 35/35 [00:17<00:00,  1.95it/s]\n"
          ]
        },
        {
          "output_type": "stream",
          "name": "stdout",
          "text": [
            "24-04-23 23:06:52 - There are now 35 representations in ds_model_facenet_detector_opencv_aligned_normalization_base_expand_0.pkl\n",
            "24-04-23 23:06:52 - Searching drive/My Drive/CoLab/ACPS/PlantPersona_data/Wheat/Thermal/P1/IR_04416.png in 35 length datastore\n",
            "24-04-23 23:06:52 - find function duration 18.548616409301758 seconds\n",
            "\n",
            "OUTPUT saved to :  drive/My Drive/CoLab/ACPS/DeepFace_output/Wheat_Thermal/P3/Facenet.txt\n",
            "24-04-23 23:06:52 - Found 35 newly added image(s), 0 removed image(s), 0 replaced image(s).\n"
          ]
        },
        {
          "output_type": "stream",
          "name": "stderr",
          "text": [
            "Finding representations: 100%|██████████| 35/35 [00:06<00:00,  5.41it/s]\n"
          ]
        },
        {
          "output_type": "stream",
          "name": "stdout",
          "text": [
            "24-04-23 23:06:59 - There are now 35 representations in ds_model_openface_detector_opencv_aligned_normalization_base_expand_0.pkl\n",
            "24-04-23 23:06:59 - Searching drive/My Drive/CoLab/ACPS/PlantPersona_data/Wheat/Thermal/P1/IR_04416.png in 35 length datastore\n",
            "24-04-23 23:06:59 - find function duration 6.854352235794067 seconds\n",
            "\n",
            "OUTPUT saved to :  drive/My Drive/CoLab/ACPS/DeepFace_output/Wheat_Thermal/P3/OpenFace.txt\n",
            "24-04-23 23:06:59 - Found 35 newly added image(s), 0 removed image(s), 0 replaced image(s).\n"
          ]
        },
        {
          "output_type": "stream",
          "name": "stderr",
          "text": [
            "Finding representations: 100%|██████████| 35/35 [00:15<00:00,  2.20it/s]\n"
          ]
        },
        {
          "output_type": "stream",
          "name": "stdout",
          "text": [
            "24-04-23 23:07:15 - There are now 35 representations in ds_model_arcface_detector_opencv_aligned_normalization_base_expand_0.pkl\n",
            "24-04-23 23:07:15 - Searching drive/My Drive/CoLab/ACPS/PlantPersona_data/Wheat/Thermal/P1/IR_04416.png in 35 length datastore\n",
            "24-04-23 23:07:15 - find function duration 16.59557032585144 seconds\n",
            "\n",
            "OUTPUT saved to :  drive/My Drive/CoLab/ACPS/DeepFace_output/Wheat_Thermal/P3/ArcFace.txt\n",
            "24-04-23 23:07:16 - Found 35 newly added image(s), 0 removed image(s), 0 replaced image(s).\n"
          ]
        },
        {
          "output_type": "stream",
          "name": "stderr",
          "text": [
            "Finding representations: 100%|██████████| 35/35 [00:05<00:00,  6.93it/s]\n"
          ]
        },
        {
          "output_type": "stream",
          "name": "stdout",
          "text": [
            "24-04-23 23:07:21 - There are now 35 representations in ds_model_sface_detector_opencv_aligned_normalization_base_expand_0.pkl\n",
            "24-04-23 23:07:21 - Searching drive/My Drive/CoLab/ACPS/PlantPersona_data/Wheat/Thermal/P1/IR_04416.png in 35 length datastore\n",
            "24-04-23 23:07:21 - find function duration 5.314276933670044 seconds\n",
            "\n",
            "OUTPUT saved to :  drive/My Drive/CoLab/ACPS/DeepFace_output/Wheat_Thermal/P3/SFace.txt\n",
            "24-04-23 23:07:21 - Found 35 newly added image(s), 0 removed image(s), 0 replaced image(s).\n"
          ]
        },
        {
          "output_type": "stream",
          "name": "stderr",
          "text": [
            "Finding representations: 100%|██████████| 35/35 [00:14<00:00,  2.40it/s]\n"
          ]
        },
        {
          "output_type": "stream",
          "name": "stdout",
          "text": [
            "24-04-23 23:07:36 - There are now 35 representations in ds_model_ghostfacenet_detector_opencv_aligned_normalization_base_expand_0.pkl\n",
            "24-04-23 23:07:36 - Searching drive/My Drive/CoLab/ACPS/PlantPersona_data/Wheat/Thermal/P1/IR_04416.png in 35 length datastore\n",
            "24-04-23 23:07:36 - find function duration 15.165408611297607 seconds\n",
            "\n",
            "OUTPUT saved to :  drive/My Drive/CoLab/ACPS/DeepFace_output/Wheat_Thermal/P3/GhostFaceNet.txt\n",
            "24-04-23 23:07:49 - Found 35 newly added image(s), 0 removed image(s), 0 replaced image(s).\n"
          ]
        },
        {
          "output_type": "stream",
          "name": "stderr",
          "text": [
            "Finding representations: 100%|██████████| 35/35 [00:25<00:00,  1.38it/s]\n"
          ]
        },
        {
          "output_type": "stream",
          "name": "stdout",
          "text": [
            "24-04-23 23:08:15 - There are now 35 representations in ds_model_vggface_detector_opencv_aligned_normalization_base_expand_0.pkl\n",
            "24-04-23 23:08:15 - Searching drive/My Drive/CoLab/ACPS/PlantPersona_data/Wheat/Thermal/P1/IR_04416.png in 35 length datastore\n",
            "24-04-23 23:08:15 - find function duration 39.34734559059143 seconds\n",
            "\n",
            "OUTPUT saved to :  drive/My Drive/CoLab/ACPS/DeepFace_output/Wheat_Thermal/P4/VGG-Face.txt\n",
            "24-04-23 23:08:15 - Found 35 newly added image(s), 0 removed image(s), 0 replaced image(s).\n"
          ]
        },
        {
          "output_type": "stream",
          "name": "stderr",
          "text": [
            "Finding representations: 100%|██████████| 35/35 [00:16<00:00,  2.10it/s]\n"
          ]
        },
        {
          "output_type": "stream",
          "name": "stdout",
          "text": [
            "24-04-23 23:08:32 - There are now 35 representations in ds_model_facenet_detector_opencv_aligned_normalization_base_expand_0.pkl\n",
            "24-04-23 23:08:32 - Searching drive/My Drive/CoLab/ACPS/PlantPersona_data/Wheat/Thermal/P1/IR_04416.png in 35 length datastore\n",
            "24-04-23 23:08:33 - find function duration 17.310693979263306 seconds\n",
            "\n",
            "OUTPUT saved to :  drive/My Drive/CoLab/ACPS/DeepFace_output/Wheat_Thermal/P4/Facenet.txt\n",
            "24-04-23 23:08:33 - Found 35 newly added image(s), 0 removed image(s), 0 replaced image(s).\n"
          ]
        },
        {
          "output_type": "stream",
          "name": "stderr",
          "text": [
            "Finding representations: 100%|██████████| 35/35 [00:06<00:00,  5.34it/s]\n"
          ]
        },
        {
          "output_type": "stream",
          "name": "stdout",
          "text": [
            "24-04-23 23:08:39 - There are now 35 representations in ds_model_openface_detector_opencv_aligned_normalization_base_expand_0.pkl\n",
            "24-04-23 23:08:39 - Searching drive/My Drive/CoLab/ACPS/PlantPersona_data/Wheat/Thermal/P1/IR_04416.png in 35 length datastore\n",
            "24-04-23 23:08:40 - find function duration 7.004843235015869 seconds\n",
            "\n",
            "OUTPUT saved to :  drive/My Drive/CoLab/ACPS/DeepFace_output/Wheat_Thermal/P4/OpenFace.txt\n",
            "24-04-23 23:08:40 - Found 35 newly added image(s), 0 removed image(s), 0 replaced image(s).\n"
          ]
        },
        {
          "output_type": "stream",
          "name": "stderr",
          "text": [
            "Finding representations: 100%|██████████| 35/35 [00:16<00:00,  2.18it/s]\n"
          ]
        },
        {
          "output_type": "stream",
          "name": "stdout",
          "text": [
            "24-04-23 23:08:56 - There are now 35 representations in ds_model_arcface_detector_opencv_aligned_normalization_base_expand_0.pkl\n",
            "24-04-23 23:08:56 - Searching drive/My Drive/CoLab/ACPS/PlantPersona_data/Wheat/Thermal/P1/IR_04416.png in 35 length datastore\n",
            "24-04-23 23:08:56 - find function duration 16.639291524887085 seconds\n",
            "\n",
            "OUTPUT saved to :  drive/My Drive/CoLab/ACPS/DeepFace_output/Wheat_Thermal/P4/ArcFace.txt\n",
            "24-04-23 23:08:56 - Found 35 newly added image(s), 0 removed image(s), 0 replaced image(s).\n"
          ]
        },
        {
          "output_type": "stream",
          "name": "stderr",
          "text": [
            "Finding representations: 100%|██████████| 35/35 [00:03<00:00, 11.56it/s]\n"
          ]
        },
        {
          "output_type": "stream",
          "name": "stdout",
          "text": [
            "24-04-23 23:08:59 - There are now 35 representations in ds_model_sface_detector_opencv_aligned_normalization_base_expand_0.pkl\n",
            "24-04-23 23:08:59 - Searching drive/My Drive/CoLab/ACPS/PlantPersona_data/Wheat/Thermal/P1/IR_04416.png in 35 length datastore\n",
            "24-04-23 23:09:00 - find function duration 3.2760095596313477 seconds\n",
            "\n",
            "OUTPUT saved to :  drive/My Drive/CoLab/ACPS/DeepFace_output/Wheat_Thermal/P4/SFace.txt\n",
            "24-04-23 23:09:00 - Found 35 newly added image(s), 0 removed image(s), 0 replaced image(s).\n"
          ]
        },
        {
          "output_type": "stream",
          "name": "stderr",
          "text": [
            "Finding representations: 100%|██████████| 35/35 [00:14<00:00,  2.49it/s]\n"
          ]
        },
        {
          "output_type": "stream",
          "name": "stdout",
          "text": [
            "24-04-23 23:09:14 - There are now 35 representations in ds_model_ghostfacenet_detector_opencv_aligned_normalization_base_expand_0.pkl\n",
            "24-04-23 23:09:14 - Searching drive/My Drive/CoLab/ACPS/PlantPersona_data/Wheat/Thermal/P1/IR_04416.png in 35 length datastore\n",
            "24-04-23 23:09:14 - find function duration 14.68661880493164 seconds\n",
            "\n",
            "OUTPUT saved to :  drive/My Drive/CoLab/ACPS/DeepFace_output/Wheat_Thermal/P4/GhostFaceNet.txt\n"
          ]
        }
      ]
    },
    {
      "cell_type": "markdown",
      "source": [
        "# **`Mustard RGB`**"
      ],
      "metadata": {
        "id": "wEpkEi8vIeUG"
      }
    },
    {
      "cell_type": "code",
      "source": [
        "for plant_type in range (1,5):\n",
        "\n",
        "    for model in models:\n",
        "\n",
        "        result = DeepFace.find(img_path = 'drive/My Drive/CoLab/ACPS/PlantPersona_data/Mustard/RGB/P3/IR_04681.png',\n",
        "                              db_path = 'drive/My Drive/CoLab/ACPS/PlantPersona_data/Mustard/RGB/P' + str(plant_type),\n",
        "                              enforce_detection = False,\n",
        "                              distance_metric = metrics[2],\n",
        "                              model_name = model)\n",
        "\n",
        "        model_used = model\n",
        "        upload_path ='drive/My Drive/CoLab/ACPS/DeepFace_output/Mustard_RGB/P' + str(plant_type) + '/' + str(model_used) + '.txt'\n",
        "        my_df = result[0]\n",
        "        my_df.to_csv(upload_path, index = False)\n",
        "\n",
        "        print(\"\\nOUTPUT saved to : \", upload_path)"
      ],
      "metadata": {
        "colab": {
          "base_uri": "https://localhost:8080/"
        },
        "id": "wvwKK2r-Isb4",
        "outputId": "ced2b28e-3e77-4c60-cc94-e7e416570a60"
      },
      "execution_count": null,
      "outputs": [
        {
          "output_type": "stream",
          "name": "stdout",
          "text": [
            "24-04-23 23:18:30 - Found 37 newly added image(s), 0 removed image(s), 0 replaced image(s).\n"
          ]
        },
        {
          "output_type": "stream",
          "name": "stderr",
          "text": [
            "Finding representations: 100%|██████████| 37/37 [00:13<00:00,  2.65it/s]\n"
          ]
        },
        {
          "output_type": "stream",
          "name": "stdout",
          "text": [
            "24-04-23 23:18:44 - There are now 37 representations in ds_model_vggface_detector_opencv_aligned_normalization_base_expand_0.pkl\n",
            "24-04-23 23:18:44 - Searching drive/My Drive/CoLab/ACPS/PlantPersona_data/Mustard/RGB/P3/IR_04681.png in 37 length datastore\n",
            "24-04-23 23:18:44 - find function duration 28.33010244369507 seconds\n",
            "\n",
            "OUTPUT saved to :  drive/My Drive/CoLab/ACPS/DeepFace_output/Mustard_RGB/P1/VGG-Face.txt\n",
            "24-04-23 23:18:45 - Found 37 newly added image(s), 0 removed image(s), 0 replaced image(s).\n"
          ]
        },
        {
          "output_type": "stream",
          "name": "stderr",
          "text": [
            "\rFinding representations:   0%|          | 0/37 [00:00<?, ?it/s]"
          ]
        },
        {
          "output_type": "stream",
          "name": "stdout",
          "text": [
            "24-04-23 23:18:48 - facenet_weights.h5 will be downloaded...\n"
          ]
        },
        {
          "output_type": "stream",
          "name": "stderr",
          "text": [
            "Downloading...\n",
            "From: https://github.com/serengil/deepface_models/releases/download/v1.0/facenet_weights.h5\n",
            "To: /root/.deepface/weights/facenet_weights.h5\n",
            "\n",
            "  0%|          | 0.00/92.2M [00:00<?, ?B/s]\u001b[A\n",
            "  1%|          | 1.05M/92.2M [00:00<00:09, 9.80MB/s]\u001b[A\n",
            "  3%|▎         | 3.15M/92.2M [00:00<00:06, 14.7MB/s]\u001b[A\n",
            "  7%|▋         | 6.29M/92.2M [00:00<00:04, 21.0MB/s]\u001b[A\n",
            " 12%|█▏        | 11.0M/92.2M [00:00<00:02, 30.5MB/s]\u001b[A\n",
            " 20%|██        | 18.9M/92.2M [00:00<00:01, 46.3MB/s]\u001b[A\n",
            " 32%|███▏      | 29.4M/92.2M [00:00<00:00, 64.7MB/s]\u001b[A\n",
            " 50%|█████     | 46.1M/92.2M [00:00<00:00, 96.5MB/s]\u001b[A\n",
            "100%|██████████| 92.2M/92.2M [00:00<00:00, 96.6MB/s]\n",
            "Finding representations: 100%|██████████| 37/37 [00:20<00:00,  1.77it/s]\n"
          ]
        },
        {
          "output_type": "stream",
          "name": "stdout",
          "text": [
            "24-04-23 23:19:06 - There are now 37 representations in ds_model_facenet_detector_opencv_aligned_normalization_base_expand_0.pkl\n",
            "24-04-23 23:19:06 - Searching drive/My Drive/CoLab/ACPS/PlantPersona_data/Mustard/RGB/P3/IR_04681.png in 37 length datastore\n",
            "24-04-23 23:19:06 - find function duration 21.32894539833069 seconds\n",
            "\n",
            "OUTPUT saved to :  drive/My Drive/CoLab/ACPS/DeepFace_output/Mustard_RGB/P1/Facenet.txt\n",
            "24-04-23 23:19:06 - Found 37 newly added image(s), 0 removed image(s), 0 replaced image(s).\n"
          ]
        },
        {
          "output_type": "stream",
          "name": "stderr",
          "text": [
            "\rFinding representations:   0%|          | 0/37 [00:00<?, ?it/s]"
          ]
        },
        {
          "output_type": "stream",
          "name": "stdout",
          "text": [
            "24-04-23 23:19:07 - openface_weights.h5 will be downloaded...\n"
          ]
        },
        {
          "output_type": "stream",
          "name": "stderr",
          "text": [
            "Downloading...\n",
            "From: https://github.com/serengil/deepface_models/releases/download/v1.0/openface_weights.h5\n",
            "To: /root/.deepface/weights/openface_weights.h5\n",
            "\n",
            "  0%|          | 0.00/15.3M [00:00<?, ?B/s]\u001b[A\n",
            "  7%|▋         | 1.05M/15.3M [00:00<00:01, 9.71MB/s]\u001b[A\n",
            " 21%|██        | 3.15M/15.3M [00:00<00:00, 14.4MB/s]\u001b[A\n",
            " 41%|████      | 6.29M/15.3M [00:00<00:00, 20.4MB/s]\u001b[A\n",
            "100%|██████████| 15.3M/15.3M [00:00<00:00, 29.5MB/s]\n",
            "Finding representations: 100%|██████████| 37/37 [00:13<00:00,  2.65it/s]\n"
          ]
        },
        {
          "output_type": "stream",
          "name": "stdout",
          "text": [
            "24-04-23 23:19:20 - There are now 37 representations in ds_model_openface_detector_opencv_aligned_normalization_base_expand_0.pkl\n",
            "24-04-23 23:19:20 - Searching drive/My Drive/CoLab/ACPS/PlantPersona_data/Mustard/RGB/P3/IR_04681.png in 37 length datastore\n",
            "24-04-23 23:19:20 - find function duration 14.29007601737976 seconds\n",
            "\n",
            "OUTPUT saved to :  drive/My Drive/CoLab/ACPS/DeepFace_output/Mustard_RGB/P1/OpenFace.txt\n",
            "24-04-23 23:19:20 - Found 37 newly added image(s), 0 removed image(s), 0 replaced image(s).\n"
          ]
        },
        {
          "output_type": "stream",
          "name": "stderr",
          "text": [
            "\rFinding representations:   0%|          | 0/37 [00:00<?, ?it/s]"
          ]
        },
        {
          "output_type": "stream",
          "name": "stdout",
          "text": [
            "24-04-23 23:19:22 - arcface_weights.h5 will be downloaded to /root/.deepface/weights/arcface_weights.h5\n"
          ]
        },
        {
          "output_type": "stream",
          "name": "stderr",
          "text": [
            "Downloading...\n",
            "From: https://github.com/serengil/deepface_models/releases/download/v1.0/arcface_weights.h5\n",
            "To: /root/.deepface/weights/arcface_weights.h5\n",
            "\n",
            "  0%|          | 0.00/137M [00:00<?, ?B/s]\u001b[A\n",
            "  1%|          | 1.05M/137M [00:00<00:13, 10.0MB/s]\u001b[A\n",
            "  2%|▏         | 3.15M/137M [00:00<00:08, 15.0MB/s]\u001b[A\n",
            "  5%|▍         | 6.29M/137M [00:00<00:06, 21.4MB/s]\u001b[A\n",
            "  8%|▊         | 11.0M/137M [00:00<00:04, 30.6MB/s]\u001b[A\n",
            " 13%|█▎        | 18.4M/137M [00:00<00:02, 44.8MB/s]\u001b[A\n",
            " 22%|██▏       | 29.9M/137M [00:00<00:01, 67.1MB/s]\u001b[A\n",
            " 35%|███▍      | 47.7M/137M [00:00<00:00, 101MB/s] \u001b[A\n",
            " 53%|█████▎    | 72.4M/137M [00:00<00:00, 146MB/s]\u001b[A\n",
            " 72%|███████▏  | 98.0M/137M [00:00<00:00, 179MB/s]\u001b[A\n",
            "100%|██████████| 137M/137M [00:01<00:00, 123MB/s]\n",
            "Finding representations: 100%|██████████| 37/37 [00:13<00:00,  2.65it/s]\n"
          ]
        },
        {
          "output_type": "stream",
          "name": "stdout",
          "text": [
            "24-04-23 23:19:34 - There are now 37 representations in ds_model_arcface_detector_opencv_aligned_normalization_base_expand_0.pkl\n",
            "24-04-23 23:19:34 - Searching drive/My Drive/CoLab/ACPS/PlantPersona_data/Mustard/RGB/P3/IR_04681.png in 37 length datastore\n",
            "24-04-23 23:19:35 - find function duration 14.311198711395264 seconds\n",
            "\n",
            "OUTPUT saved to :  drive/My Drive/CoLab/ACPS/DeepFace_output/Mustard_RGB/P1/ArcFace.txt\n",
            "24-04-23 23:19:35 - Found 37 newly added image(s), 0 removed image(s), 0 replaced image(s).\n"
          ]
        },
        {
          "output_type": "stream",
          "name": "stderr",
          "text": [
            "\rFinding representations:   0%|          | 0/37 [00:00<?, ?it/s]"
          ]
        },
        {
          "output_type": "stream",
          "name": "stdout",
          "text": [
            "24-04-23 23:19:35 - sface weights will be downloaded...\n"
          ]
        },
        {
          "output_type": "stream",
          "name": "stderr",
          "text": [
            "Downloading...\n",
            "From: https://github.com/opencv/opencv_zoo/raw/main/models/face_recognition_sface/face_recognition_sface_2021dec.onnx\n",
            "To: /root/.deepface/weights/face_recognition_sface_2021dec.onnx\n",
            "\n",
            "  0%|          | 0.00/38.7M [00:00<?, ?B/s]\u001b[A\n",
            "  3%|▎         | 1.05M/38.7M [00:00<00:03, 10.3MB/s]\u001b[A\n",
            "  8%|▊         | 3.15M/38.7M [00:00<00:02, 15.0MB/s]\u001b[A\n",
            " 16%|█▋        | 6.29M/38.7M [00:00<00:01, 21.3MB/s]\u001b[A\n",
            " 28%|██▊       | 11.0M/38.7M [00:00<00:00, 30.4MB/s]\u001b[A\n",
            " 47%|████▋     | 18.4M/38.7M [00:00<00:00, 44.7MB/s]\u001b[A\n",
            "100%|██████████| 38.7M/38.7M [00:00<00:00, 55.4MB/s]\n",
            "Finding representations: 100%|██████████| 37/37 [00:08<00:00,  4.17it/s]\n"
          ]
        },
        {
          "output_type": "stream",
          "name": "stdout",
          "text": [
            "24-04-23 23:19:44 - There are now 37 representations in ds_model_sface_detector_opencv_aligned_normalization_base_expand_0.pkl\n",
            "24-04-23 23:19:44 - Searching drive/My Drive/CoLab/ACPS/PlantPersona_data/Mustard/RGB/P3/IR_04681.png in 37 length datastore\n",
            "24-04-23 23:19:44 - find function duration 9.274643182754517 seconds\n",
            "\n",
            "OUTPUT saved to :  drive/My Drive/CoLab/ACPS/DeepFace_output/Mustard_RGB/P1/SFace.txt\n",
            "24-04-23 23:19:44 - Found 37 newly added image(s), 0 removed image(s), 0 replaced image(s).\n"
          ]
        },
        {
          "output_type": "stream",
          "name": "stderr",
          "text": [
            "\rFinding representations:   0%|          | 0/37 [00:00<?, ?it/s]"
          ]
        },
        {
          "output_type": "stream",
          "name": "stdout",
          "text": [
            "24-04-23 23:19:48 - Pre-trained weights is downloaded from https://github.com/HamadYA/GhostFaceNets/releases/download/v1.2/GhostFaceNet_W1.3_S1_ArcFace.h5 to /root/.deepface/weights/ghostfacenet_v1.h5\n"
          ]
        },
        {
          "output_type": "stream",
          "name": "stderr",
          "text": [
            "Downloading...\n",
            "From: https://github.com/HamadYA/GhostFaceNets/releases/download/v1.2/GhostFaceNet_W1.3_S1_ArcFace.h5\n",
            "To: /root/.deepface/weights/ghostfacenet_v1.h5\n",
            "\n",
            "  0%|          | 0.00/17.3M [00:00<?, ?B/s]\u001b[A\n",
            "  6%|▌         | 1.05M/17.3M [00:00<00:01, 9.96MB/s]\u001b[A\n",
            " 18%|█▊        | 3.15M/17.3M [00:00<00:00, 15.0MB/s]\u001b[A\n",
            " 36%|███▋      | 6.29M/17.3M [00:00<00:00, 21.5MB/s]\u001b[A\n",
            "100%|██████████| 17.3M/17.3M [00:00<00:00, 33.3MB/s]\n"
          ]
        },
        {
          "output_type": "stream",
          "name": "stdout",
          "text": [
            "24-04-23 23:19:49 - Pre-trained weights is just downloaded to /root/.deepface/weights/ghostfacenet_v1.h5\n"
          ]
        },
        {
          "output_type": "stream",
          "name": "stderr",
          "text": [
            "Finding representations: 100%|██████████| 37/37 [00:20<00:00,  1.81it/s]\n"
          ]
        },
        {
          "output_type": "stream",
          "name": "stdout",
          "text": [
            "24-04-23 23:20:05 - There are now 37 representations in ds_model_ghostfacenet_detector_opencv_aligned_normalization_base_expand_0.pkl\n",
            "24-04-23 23:20:05 - Searching drive/My Drive/CoLab/ACPS/PlantPersona_data/Mustard/RGB/P3/IR_04681.png in 37 length datastore\n",
            "24-04-23 23:20:05 - find function duration 20.927577018737793 seconds\n",
            "\n",
            "OUTPUT saved to :  drive/My Drive/CoLab/ACPS/DeepFace_output/Mustard_RGB/P1/GhostFaceNet.txt\n",
            "24-04-23 23:20:16 - Found 35 newly added image(s), 0 removed image(s), 0 replaced image(s).\n"
          ]
        },
        {
          "output_type": "stream",
          "name": "stderr",
          "text": [
            "Finding representations: 100%|██████████| 35/35 [00:09<00:00,  3.65it/s]\n"
          ]
        },
        {
          "output_type": "stream",
          "name": "stdout",
          "text": [
            "24-04-23 23:20:26 - There are now 35 representations in ds_model_vggface_detector_opencv_aligned_normalization_base_expand_0.pkl\n",
            "24-04-23 23:20:26 - Searching drive/My Drive/CoLab/ACPS/PlantPersona_data/Mustard/RGB/P3/IR_04681.png in 35 length datastore\n",
            "24-04-23 23:20:26 - find function duration 20.969533681869507 seconds\n",
            "\n",
            "OUTPUT saved to :  drive/My Drive/CoLab/ACPS/DeepFace_output/Mustard_RGB/P2/VGG-Face.txt\n",
            "24-04-23 23:20:26 - Found 35 newly added image(s), 0 removed image(s), 0 replaced image(s).\n"
          ]
        },
        {
          "output_type": "stream",
          "name": "stderr",
          "text": [
            "Finding representations: 100%|██████████| 35/35 [00:13<00:00,  2.58it/s]\n"
          ]
        },
        {
          "output_type": "stream",
          "name": "stdout",
          "text": [
            "24-04-23 23:20:39 - There are now 35 representations in ds_model_facenet_detector_opencv_aligned_normalization_base_expand_0.pkl\n",
            "24-04-23 23:20:39 - Searching drive/My Drive/CoLab/ACPS/PlantPersona_data/Mustard/RGB/P3/IR_04681.png in 35 length datastore\n",
            "24-04-23 23:20:40 - find function duration 14.000028371810913 seconds\n",
            "\n",
            "OUTPUT saved to :  drive/My Drive/CoLab/ACPS/DeepFace_output/Mustard_RGB/P2/Facenet.txt\n",
            "24-04-23 23:20:40 - Found 35 newly added image(s), 0 removed image(s), 0 replaced image(s).\n"
          ]
        },
        {
          "output_type": "stream",
          "name": "stderr",
          "text": [
            "Finding representations: 100%|██████████| 35/35 [00:08<00:00,  4.35it/s]\n"
          ]
        },
        {
          "output_type": "stream",
          "name": "stdout",
          "text": [
            "24-04-23 23:20:48 - There are now 35 representations in ds_model_openface_detector_opencv_aligned_normalization_base_expand_0.pkl\n",
            "24-04-23 23:20:48 - Searching drive/My Drive/CoLab/ACPS/PlantPersona_data/Mustard/RGB/P3/IR_04681.png in 35 length datastore\n",
            "24-04-23 23:20:48 - find function duration 8.503660440444946 seconds\n",
            "\n",
            "OUTPUT saved to :  drive/My Drive/CoLab/ACPS/DeepFace_output/Mustard_RGB/P2/OpenFace.txt\n",
            "24-04-23 23:20:48 - Found 35 newly added image(s), 0 removed image(s), 0 replaced image(s).\n"
          ]
        },
        {
          "output_type": "stream",
          "name": "stderr",
          "text": [
            "Finding representations: 100%|██████████| 35/35 [00:09<00:00,  3.89it/s]\n"
          ]
        },
        {
          "output_type": "stream",
          "name": "stdout",
          "text": [
            "24-04-23 23:20:57 - There are now 35 representations in ds_model_arcface_detector_opencv_aligned_normalization_base_expand_0.pkl\n",
            "24-04-23 23:20:57 - Searching drive/My Drive/CoLab/ACPS/PlantPersona_data/Mustard/RGB/P3/IR_04681.png in 35 length datastore\n",
            "24-04-23 23:20:58 - find function duration 9.35599422454834 seconds\n",
            "\n",
            "OUTPUT saved to :  drive/My Drive/CoLab/ACPS/DeepFace_output/Mustard_RGB/P2/ArcFace.txt\n",
            "24-04-23 23:20:58 - Found 35 newly added image(s), 0 removed image(s), 0 replaced image(s).\n"
          ]
        },
        {
          "output_type": "stream",
          "name": "stderr",
          "text": [
            "Finding representations: 100%|██████████| 35/35 [00:07<00:00,  4.67it/s]\n"
          ]
        },
        {
          "output_type": "stream",
          "name": "stdout",
          "text": [
            "24-04-23 23:21:05 - There are now 35 representations in ds_model_sface_detector_opencv_aligned_normalization_base_expand_0.pkl\n",
            "24-04-23 23:21:05 - Searching drive/My Drive/CoLab/ACPS/PlantPersona_data/Mustard/RGB/P3/IR_04681.png in 35 length datastore\n",
            "24-04-23 23:21:05 - find function duration 7.7702696323394775 seconds\n",
            "\n",
            "OUTPUT saved to :  drive/My Drive/CoLab/ACPS/DeepFace_output/Mustard_RGB/P2/SFace.txt\n",
            "24-04-23 23:21:06 - Found 35 newly added image(s), 0 removed image(s), 0 replaced image(s).\n"
          ]
        },
        {
          "output_type": "stream",
          "name": "stderr",
          "text": [
            "Finding representations: 100%|██████████| 35/35 [00:12<00:00,  2.83it/s]\n"
          ]
        },
        {
          "output_type": "stream",
          "name": "stdout",
          "text": [
            "24-04-23 23:21:18 - There are now 35 representations in ds_model_ghostfacenet_detector_opencv_aligned_normalization_base_expand_0.pkl\n",
            "24-04-23 23:21:18 - Searching drive/My Drive/CoLab/ACPS/PlantPersona_data/Mustard/RGB/P3/IR_04681.png in 35 length datastore\n",
            "24-04-23 23:21:18 - find function duration 12.796434164047241 seconds\n",
            "\n",
            "OUTPUT saved to :  drive/My Drive/CoLab/ACPS/DeepFace_output/Mustard_RGB/P2/GhostFaceNet.txt\n",
            "24-04-23 23:21:30 - Found 35 newly added image(s), 0 removed image(s), 0 replaced image(s).\n"
          ]
        },
        {
          "output_type": "stream",
          "name": "stderr",
          "text": [
            "Finding representations: 100%|██████████| 35/35 [00:09<00:00,  3.64it/s]\n"
          ]
        },
        {
          "output_type": "stream",
          "name": "stdout",
          "text": [
            "24-04-23 23:21:39 - There are now 35 representations in ds_model_vggface_detector_opencv_aligned_normalization_base_expand_0.pkl\n",
            "24-04-23 23:21:39 - Searching drive/My Drive/CoLab/ACPS/PlantPersona_data/Mustard/RGB/P3/IR_04681.png in 35 length datastore\n",
            "24-04-23 23:21:40 - find function duration 21.241857051849365 seconds\n",
            "\n",
            "OUTPUT saved to :  drive/My Drive/CoLab/ACPS/DeepFace_output/Mustard_RGB/P3/VGG-Face.txt\n",
            "24-04-23 23:21:40 - Found 35 newly added image(s), 0 removed image(s), 0 replaced image(s).\n"
          ]
        },
        {
          "output_type": "stream",
          "name": "stderr",
          "text": [
            "Finding representations: 100%|██████████| 35/35 [00:14<00:00,  2.46it/s]\n"
          ]
        },
        {
          "output_type": "stream",
          "name": "stdout",
          "text": [
            "24-04-23 23:21:54 - There are now 35 representations in ds_model_facenet_detector_opencv_aligned_normalization_base_expand_0.pkl\n",
            "24-04-23 23:21:54 - Searching drive/My Drive/CoLab/ACPS/PlantPersona_data/Mustard/RGB/P3/IR_04681.png in 35 length datastore\n",
            "24-04-23 23:21:54 - find function duration 14.790319442749023 seconds\n",
            "\n",
            "OUTPUT saved to :  drive/My Drive/CoLab/ACPS/DeepFace_output/Mustard_RGB/P3/Facenet.txt\n",
            "24-04-23 23:21:54 - Found 35 newly added image(s), 0 removed image(s), 0 replaced image(s).\n"
          ]
        },
        {
          "output_type": "stream",
          "name": "stderr",
          "text": [
            "Finding representations: 100%|██████████| 35/35 [00:08<00:00,  3.96it/s]\n"
          ]
        },
        {
          "output_type": "stream",
          "name": "stdout",
          "text": [
            "24-04-23 23:22:03 - There are now 35 representations in ds_model_openface_detector_opencv_aligned_normalization_base_expand_0.pkl\n",
            "24-04-23 23:22:03 - Searching drive/My Drive/CoLab/ACPS/PlantPersona_data/Mustard/RGB/P3/IR_04681.png in 35 length datastore\n",
            "24-04-23 23:22:04 - find function duration 9.1922926902771 seconds\n",
            "\n",
            "OUTPUT saved to :  drive/My Drive/CoLab/ACPS/DeepFace_output/Mustard_RGB/P3/OpenFace.txt\n",
            "24-04-23 23:22:04 - Found 35 newly added image(s), 0 removed image(s), 0 replaced image(s).\n"
          ]
        },
        {
          "output_type": "stream",
          "name": "stderr",
          "text": [
            "Finding representations: 100%|██████████| 35/35 [00:09<00:00,  3.62it/s]\n"
          ]
        },
        {
          "output_type": "stream",
          "name": "stdout",
          "text": [
            "24-04-23 23:22:13 - There are now 35 representations in ds_model_arcface_detector_opencv_aligned_normalization_base_expand_0.pkl\n",
            "24-04-23 23:22:13 - Searching drive/My Drive/CoLab/ACPS/PlantPersona_data/Mustard/RGB/P3/IR_04681.png in 35 length datastore\n",
            "24-04-23 23:22:14 - find function duration 10.058220624923706 seconds\n",
            "\n",
            "OUTPUT saved to :  drive/My Drive/CoLab/ACPS/DeepFace_output/Mustard_RGB/P3/ArcFace.txt\n",
            "24-04-23 23:22:14 - Found 35 newly added image(s), 0 removed image(s), 0 replaced image(s).\n"
          ]
        },
        {
          "output_type": "stream",
          "name": "stderr",
          "text": [
            "Finding representations: 100%|██████████| 35/35 [00:06<00:00,  5.63it/s]\n"
          ]
        },
        {
          "output_type": "stream",
          "name": "stdout",
          "text": [
            "24-04-23 23:22:20 - There are now 35 representations in ds_model_sface_detector_opencv_aligned_normalization_base_expand_0.pkl\n",
            "24-04-23 23:22:20 - Searching drive/My Drive/CoLab/ACPS/PlantPersona_data/Mustard/RGB/P3/IR_04681.png in 35 length datastore\n",
            "24-04-23 23:22:20 - find function duration 6.479982852935791 seconds\n",
            "\n",
            "OUTPUT saved to :  drive/My Drive/CoLab/ACPS/DeepFace_output/Mustard_RGB/P3/SFace.txt\n",
            "24-04-23 23:22:20 - Found 35 newly added image(s), 0 removed image(s), 0 replaced image(s).\n"
          ]
        },
        {
          "output_type": "stream",
          "name": "stderr",
          "text": [
            "Finding representations: 100%|██████████| 35/35 [00:12<00:00,  2.80it/s]\n"
          ]
        },
        {
          "output_type": "stream",
          "name": "stdout",
          "text": [
            "24-04-23 23:22:33 - There are now 35 representations in ds_model_ghostfacenet_detector_opencv_aligned_normalization_base_expand_0.pkl\n",
            "24-04-23 23:22:33 - Searching drive/My Drive/CoLab/ACPS/PlantPersona_data/Mustard/RGB/P3/IR_04681.png in 35 length datastore\n",
            "24-04-23 23:22:33 - find function duration 12.945893049240112 seconds\n",
            "\n",
            "OUTPUT saved to :  drive/My Drive/CoLab/ACPS/DeepFace_output/Mustard_RGB/P3/GhostFaceNet.txt\n",
            "24-04-23 23:22:45 - Found 35 newly added image(s), 0 removed image(s), 0 replaced image(s).\n"
          ]
        },
        {
          "output_type": "stream",
          "name": "stderr",
          "text": [
            "Finding representations: 100%|██████████| 35/35 [00:07<00:00,  4.40it/s]\n"
          ]
        },
        {
          "output_type": "stream",
          "name": "stdout",
          "text": [
            "24-04-23 23:22:53 - There are now 35 representations in ds_model_vggface_detector_opencv_aligned_normalization_base_expand_0.pkl\n",
            "24-04-23 23:22:53 - Searching drive/My Drive/CoLab/ACPS/PlantPersona_data/Mustard/RGB/P3/IR_04681.png in 35 length datastore\n",
            "24-04-23 23:22:53 - find function duration 19.694666624069214 seconds\n",
            "\n",
            "OUTPUT saved to :  drive/My Drive/CoLab/ACPS/DeepFace_output/Mustard_RGB/P4/VGG-Face.txt\n",
            "24-04-23 23:22:53 - Found 35 newly added image(s), 0 removed image(s), 0 replaced image(s).\n"
          ]
        },
        {
          "output_type": "stream",
          "name": "stderr",
          "text": [
            "Finding representations: 100%|██████████| 35/35 [00:13<00:00,  2.51it/s]\n"
          ]
        },
        {
          "output_type": "stream",
          "name": "stdout",
          "text": [
            "24-04-23 23:23:07 - There are now 35 representations in ds_model_facenet_detector_opencv_aligned_normalization_base_expand_0.pkl\n",
            "24-04-23 23:23:07 - Searching drive/My Drive/CoLab/ACPS/PlantPersona_data/Mustard/RGB/P3/IR_04681.png in 35 length datastore\n",
            "24-04-23 23:23:07 - find function duration 14.431135177612305 seconds\n",
            "\n",
            "OUTPUT saved to :  drive/My Drive/CoLab/ACPS/DeepFace_output/Mustard_RGB/P4/Facenet.txt\n",
            "24-04-23 23:23:07 - Found 35 newly added image(s), 0 removed image(s), 0 replaced image(s).\n"
          ]
        },
        {
          "output_type": "stream",
          "name": "stderr",
          "text": [
            "Finding representations: 100%|██████████| 35/35 [00:08<00:00,  4.34it/s]\n"
          ]
        },
        {
          "output_type": "stream",
          "name": "stdout",
          "text": [
            "24-04-23 23:23:15 - There are now 35 representations in ds_model_openface_detector_opencv_aligned_normalization_base_expand_0.pkl\n",
            "24-04-23 23:23:15 - Searching drive/My Drive/CoLab/ACPS/PlantPersona_data/Mustard/RGB/P3/IR_04681.png in 35 length datastore\n",
            "24-04-23 23:23:16 - find function duration 8.378793954849243 seconds\n",
            "\n",
            "OUTPUT saved to :  drive/My Drive/CoLab/ACPS/DeepFace_output/Mustard_RGB/P4/OpenFace.txt\n",
            "24-04-23 23:23:16 - Found 35 newly added image(s), 0 removed image(s), 0 replaced image(s).\n"
          ]
        },
        {
          "output_type": "stream",
          "name": "stderr",
          "text": [
            "Finding representations: 100%|██████████| 35/35 [00:07<00:00,  4.86it/s]\n"
          ]
        },
        {
          "output_type": "stream",
          "name": "stdout",
          "text": [
            "24-04-23 23:23:23 - There are now 35 representations in ds_model_arcface_detector_opencv_aligned_normalization_base_expand_0.pkl\n",
            "24-04-23 23:23:23 - Searching drive/My Drive/CoLab/ACPS/PlantPersona_data/Mustard/RGB/P3/IR_04681.png in 35 length datastore\n",
            "24-04-23 23:23:23 - find function duration 7.568314790725708 seconds\n",
            "\n",
            "OUTPUT saved to :  drive/My Drive/CoLab/ACPS/DeepFace_output/Mustard_RGB/P4/ArcFace.txt\n",
            "24-04-23 23:23:23 - Found 35 newly added image(s), 0 removed image(s), 0 replaced image(s).\n"
          ]
        },
        {
          "output_type": "stream",
          "name": "stderr",
          "text": [
            "Finding representations: 100%|██████████| 35/35 [00:06<00:00,  5.42it/s]\n"
          ]
        },
        {
          "output_type": "stream",
          "name": "stdout",
          "text": [
            "24-04-23 23:23:30 - There are now 35 representations in ds_model_sface_detector_opencv_aligned_normalization_base_expand_0.pkl\n",
            "24-04-23 23:23:30 - Searching drive/My Drive/CoLab/ACPS/PlantPersona_data/Mustard/RGB/P3/IR_04681.png in 35 length datastore\n",
            "24-04-23 23:23:30 - find function duration 6.76927638053894 seconds\n",
            "\n",
            "OUTPUT saved to :  drive/My Drive/CoLab/ACPS/DeepFace_output/Mustard_RGB/P4/SFace.txt\n",
            "24-04-23 23:23:30 - Found 35 newly added image(s), 0 removed image(s), 0 replaced image(s).\n"
          ]
        },
        {
          "output_type": "stream",
          "name": "stderr",
          "text": [
            "Finding representations: 100%|██████████| 35/35 [00:10<00:00,  3.27it/s]\n"
          ]
        },
        {
          "output_type": "stream",
          "name": "stdout",
          "text": [
            "24-04-23 23:23:41 - There are now 35 representations in ds_model_ghostfacenet_detector_opencv_aligned_normalization_base_expand_0.pkl\n",
            "24-04-23 23:23:41 - Searching drive/My Drive/CoLab/ACPS/PlantPersona_data/Mustard/RGB/P3/IR_04681.png in 35 length datastore\n",
            "24-04-23 23:23:41 - find function duration 11.228248357772827 seconds\n",
            "\n",
            "OUTPUT saved to :  drive/My Drive/CoLab/ACPS/DeepFace_output/Mustard_RGB/P4/GhostFaceNet.txt\n"
          ]
        }
      ]
    },
    {
      "cell_type": "markdown",
      "source": [
        "# **`Mustard Thermal`**"
      ],
      "metadata": {
        "id": "u6Fd1Vs3Ihao"
      }
    },
    {
      "cell_type": "code",
      "source": [
        "for plant_type in range (1,5):\n",
        "\n",
        "    for model in models:\n",
        "\n",
        "        result = DeepFace.find(img_path = 'drive/My Drive/CoLab/ACPS/PlantPersona_data/Mustard/Thermal/P3/IR_04681.png',\n",
        "                              db_path = 'drive/My Drive/CoLab/ACPS/PlantPersona_data/Mustard/Thermal/P' + str(plant_type),\n",
        "                              enforce_detection = False,\n",
        "                              distance_metric = metrics[2],\n",
        "                              model_name = model)\n",
        "\n",
        "        model_used = model\n",
        "        upload_path ='drive/My Drive/CoLab/ACPS/DeepFace_output/Mustard_Thermal/P' + str(plant_type) + '/' + str(model_used) + '.txt'\n",
        "        my_df = result[0]\n",
        "        my_df.to_csv(upload_path, index = False)\n",
        "\n",
        "        print(\"\\nOUTPUT saved to : \", upload_path)"
      ],
      "metadata": {
        "colab": {
          "base_uri": "https://localhost:8080/"
        },
        "id": "nuQC-FP4ItAf",
        "outputId": "7122695e-5095-4092-cc10-62d180d1ac36"
      },
      "execution_count": null,
      "outputs": [
        {
          "output_type": "stream",
          "name": "stdout",
          "text": [
            "24-04-23 23:23:52 - Found 37 newly added image(s), 0 removed image(s), 0 replaced image(s).\n"
          ]
        },
        {
          "output_type": "stream",
          "name": "stderr",
          "text": [
            "Finding representations: 100%|██████████| 37/37 [00:03<00:00,  9.65it/s]\n"
          ]
        },
        {
          "output_type": "stream",
          "name": "stdout",
          "text": [
            "24-04-23 23:23:56 - There are now 37 representations in ds_model_vggface_detector_opencv_aligned_normalization_base_expand_0.pkl\n",
            "24-04-23 23:23:56 - Searching drive/My Drive/CoLab/ACPS/PlantPersona_data/Mustard/Thermal/P3/IR_04681.png in 37 length datastore\n",
            "24-04-23 23:23:57 - find function duration 15.62377142906189 seconds\n",
            "\n",
            "OUTPUT saved to :  drive/My Drive/CoLab/ACPS/DeepFace_output/Mustard_Thermal/P1/VGG-Face.txt\n",
            "24-04-23 23:23:57 - Found 37 newly added image(s), 0 removed image(s), 0 replaced image(s).\n"
          ]
        },
        {
          "output_type": "stream",
          "name": "stderr",
          "text": [
            "Finding representations: 100%|██████████| 37/37 [00:10<00:00,  3.39it/s]\n"
          ]
        },
        {
          "output_type": "stream",
          "name": "stdout",
          "text": [
            "24-04-23 23:24:08 - There are now 37 representations in ds_model_facenet_detector_opencv_aligned_normalization_base_expand_0.pkl\n",
            "24-04-23 23:24:08 - Searching drive/My Drive/CoLab/ACPS/PlantPersona_data/Mustard/Thermal/P3/IR_04681.png in 37 length datastore\n",
            "24-04-23 23:24:08 - find function duration 11.388983249664307 seconds\n",
            "\n",
            "OUTPUT saved to :  drive/My Drive/CoLab/ACPS/DeepFace_output/Mustard_Thermal/P1/Facenet.txt\n",
            "24-04-23 23:24:09 - Found 37 newly added image(s), 0 removed image(s), 0 replaced image(s).\n"
          ]
        },
        {
          "output_type": "stream",
          "name": "stderr",
          "text": [
            "Finding representations: 100%|██████████| 37/37 [00:05<00:00,  7.27it/s]\n"
          ]
        },
        {
          "output_type": "stream",
          "name": "stdout",
          "text": [
            "24-04-23 23:24:14 - There are now 37 representations in ds_model_openface_detector_opencv_aligned_normalization_base_expand_0.pkl\n",
            "24-04-23 23:24:14 - Searching drive/My Drive/CoLab/ACPS/PlantPersona_data/Mustard/Thermal/P3/IR_04681.png in 37 length datastore\n",
            "24-04-23 23:24:14 - find function duration 5.363090515136719 seconds\n",
            "\n",
            "OUTPUT saved to :  drive/My Drive/CoLab/ACPS/DeepFace_output/Mustard_Thermal/P1/OpenFace.txt\n",
            "24-04-23 23:24:14 - Found 37 newly added image(s), 0 removed image(s), 0 replaced image(s).\n"
          ]
        },
        {
          "output_type": "stream",
          "name": "stderr",
          "text": [
            "Finding representations: 100%|██████████| 37/37 [00:05<00:00,  6.18it/s]\n"
          ]
        },
        {
          "output_type": "stream",
          "name": "stdout",
          "text": [
            "24-04-23 23:24:20 - There are now 37 representations in ds_model_arcface_detector_opencv_aligned_normalization_base_expand_0.pkl\n",
            "24-04-23 23:24:20 - Searching drive/My Drive/CoLab/ACPS/PlantPersona_data/Mustard/Thermal/P3/IR_04681.png in 37 length datastore\n",
            "24-04-23 23:24:20 - find function duration 6.345855474472046 seconds\n",
            "\n",
            "OUTPUT saved to :  drive/My Drive/CoLab/ACPS/DeepFace_output/Mustard_Thermal/P1/ArcFace.txt\n",
            "24-04-23 23:24:20 - Found 37 newly added image(s), 0 removed image(s), 0 replaced image(s).\n"
          ]
        },
        {
          "output_type": "stream",
          "name": "stderr",
          "text": [
            "Finding representations: 100%|██████████| 37/37 [00:03<00:00, 10.18it/s]\n"
          ]
        },
        {
          "output_type": "stream",
          "name": "stdout",
          "text": [
            "24-04-23 23:24:24 - There are now 37 representations in ds_model_sface_detector_opencv_aligned_normalization_base_expand_0.pkl\n",
            "24-04-23 23:24:24 - Searching drive/My Drive/CoLab/ACPS/PlantPersona_data/Mustard/Thermal/P3/IR_04681.png in 37 length datastore\n",
            "24-04-23 23:24:24 - find function duration 3.8547933101654053 seconds\n",
            "\n",
            "OUTPUT saved to :  drive/My Drive/CoLab/ACPS/DeepFace_output/Mustard_Thermal/P1/SFace.txt\n",
            "24-04-23 23:24:24 - Found 37 newly added image(s), 0 removed image(s), 0 replaced image(s).\n"
          ]
        },
        {
          "output_type": "stream",
          "name": "stderr",
          "text": [
            "Finding representations: 100%|██████████| 37/37 [00:09<00:00,  4.10it/s]\n"
          ]
        },
        {
          "output_type": "stream",
          "name": "stdout",
          "text": [
            "24-04-23 23:24:33 - There are now 37 representations in ds_model_ghostfacenet_detector_opencv_aligned_normalization_base_expand_0.pkl\n",
            "24-04-23 23:24:33 - Searching drive/My Drive/CoLab/ACPS/PlantPersona_data/Mustard/Thermal/P3/IR_04681.png in 37 length datastore\n",
            "24-04-23 23:24:34 - find function duration 9.492181062698364 seconds\n",
            "\n",
            "OUTPUT saved to :  drive/My Drive/CoLab/ACPS/DeepFace_output/Mustard_Thermal/P1/GhostFaceNet.txt\n",
            "24-04-23 23:24:45 - Found 35 newly added image(s), 0 removed image(s), 0 replaced image(s).\n"
          ]
        },
        {
          "output_type": "stream",
          "name": "stderr",
          "text": [
            "Finding representations: 100%|██████████| 35/35 [00:03<00:00,  9.44it/s]\n"
          ]
        },
        {
          "output_type": "stream",
          "name": "stdout",
          "text": [
            "24-04-23 23:24:48 - There are now 35 representations in ds_model_vggface_detector_opencv_aligned_normalization_base_expand_0.pkl\n",
            "24-04-23 23:24:48 - Searching drive/My Drive/CoLab/ACPS/PlantPersona_data/Mustard/Thermal/P3/IR_04681.png in 35 length datastore\n",
            "24-04-23 23:24:48 - find function duration 14.874853134155273 seconds\n",
            "\n",
            "OUTPUT saved to :  drive/My Drive/CoLab/ACPS/DeepFace_output/Mustard_Thermal/P2/VGG-Face.txt\n",
            "24-04-23 23:24:49 - Found 35 newly added image(s), 0 removed image(s), 0 replaced image(s).\n"
          ]
        },
        {
          "output_type": "stream",
          "name": "stderr",
          "text": [
            "Finding representations: 100%|██████████| 35/35 [00:09<00:00,  3.51it/s]\n"
          ]
        },
        {
          "output_type": "stream",
          "name": "stdout",
          "text": [
            "24-04-23 23:24:59 - There are now 35 representations in ds_model_facenet_detector_opencv_aligned_normalization_base_expand_0.pkl\n",
            "24-04-23 23:24:59 - Searching drive/My Drive/CoLab/ACPS/PlantPersona_data/Mustard/Thermal/P3/IR_04681.png in 35 length datastore\n",
            "24-04-23 23:24:59 - find function duration 10.468987703323364 seconds\n",
            "\n",
            "OUTPUT saved to :  drive/My Drive/CoLab/ACPS/DeepFace_output/Mustard_Thermal/P2/Facenet.txt\n",
            "24-04-23 23:24:59 - Found 35 newly added image(s), 0 removed image(s), 0 replaced image(s).\n"
          ]
        },
        {
          "output_type": "stream",
          "name": "stderr",
          "text": [
            "Finding representations: 100%|██████████| 35/35 [00:05<00:00,  6.60it/s]\n"
          ]
        },
        {
          "output_type": "stream",
          "name": "stdout",
          "text": [
            "24-04-23 23:25:04 - There are now 35 representations in ds_model_openface_detector_opencv_aligned_normalization_base_expand_0.pkl\n",
            "24-04-23 23:25:04 - Searching drive/My Drive/CoLab/ACPS/PlantPersona_data/Mustard/Thermal/P3/IR_04681.png in 35 length datastore\n",
            "24-04-23 23:25:05 - find function duration 5.599741220474243 seconds\n",
            "\n",
            "OUTPUT saved to :  drive/My Drive/CoLab/ACPS/DeepFace_output/Mustard_Thermal/P2/OpenFace.txt\n",
            "24-04-23 23:25:05 - Found 35 newly added image(s), 0 removed image(s), 0 replaced image(s).\n"
          ]
        },
        {
          "output_type": "stream",
          "name": "stderr",
          "text": [
            "Finding representations: 100%|██████████| 35/35 [00:05<00:00,  6.90it/s]\n"
          ]
        },
        {
          "output_type": "stream",
          "name": "stdout",
          "text": [
            "24-04-23 23:25:10 - There are now 35 representations in ds_model_arcface_detector_opencv_aligned_normalization_base_expand_0.pkl\n",
            "24-04-23 23:25:10 - Searching drive/My Drive/CoLab/ACPS/PlantPersona_data/Mustard/Thermal/P3/IR_04681.png in 35 length datastore\n",
            "24-04-23 23:25:10 - find function duration 5.346253871917725 seconds\n",
            "\n",
            "OUTPUT saved to :  drive/My Drive/CoLab/ACPS/DeepFace_output/Mustard_Thermal/P2/ArcFace.txt\n",
            "24-04-23 23:25:10 - Found 35 newly added image(s), 0 removed image(s), 0 replaced image(s).\n"
          ]
        },
        {
          "output_type": "stream",
          "name": "stderr",
          "text": [
            "Finding representations: 100%|██████████| 35/35 [00:04<00:00,  7.81it/s]\n"
          ]
        },
        {
          "output_type": "stream",
          "name": "stdout",
          "text": [
            "24-04-23 23:25:14 - There are now 35 representations in ds_model_sface_detector_opencv_aligned_normalization_base_expand_0.pkl\n",
            "24-04-23 23:25:14 - Searching drive/My Drive/CoLab/ACPS/PlantPersona_data/Mustard/Thermal/P3/IR_04681.png in 35 length datastore\n",
            "24-04-23 23:25:15 - find function duration 4.682631492614746 seconds\n",
            "\n",
            "OUTPUT saved to :  drive/My Drive/CoLab/ACPS/DeepFace_output/Mustard_Thermal/P2/SFace.txt\n",
            "24-04-23 23:25:15 - Found 35 newly added image(s), 0 removed image(s), 0 replaced image(s).\n"
          ]
        },
        {
          "output_type": "stream",
          "name": "stderr",
          "text": [
            "Finding representations: 100%|██████████| 35/35 [00:08<00:00,  4.32it/s]\n"
          ]
        },
        {
          "output_type": "stream",
          "name": "stdout",
          "text": [
            "24-04-23 23:25:23 - There are now 35 representations in ds_model_ghostfacenet_detector_opencv_aligned_normalization_base_expand_0.pkl\n",
            "24-04-23 23:25:23 - Searching drive/My Drive/CoLab/ACPS/PlantPersona_data/Mustard/Thermal/P3/IR_04681.png in 35 length datastore\n",
            "24-04-23 23:25:23 - find function duration 8.482702732086182 seconds\n",
            "\n",
            "OUTPUT saved to :  drive/My Drive/CoLab/ACPS/DeepFace_output/Mustard_Thermal/P2/GhostFaceNet.txt\n",
            "24-04-23 23:25:34 - Found 35 newly added image(s), 0 removed image(s), 0 replaced image(s).\n"
          ]
        },
        {
          "output_type": "stream",
          "name": "stderr",
          "text": [
            "Finding representations: 100%|██████████| 35/35 [00:02<00:00, 13.11it/s]\n"
          ]
        },
        {
          "output_type": "stream",
          "name": "stdout",
          "text": [
            "24-04-23 23:25:36 - There are now 35 representations in ds_model_vggface_detector_opencv_aligned_normalization_base_expand_0.pkl\n",
            "24-04-23 23:25:36 - Searching drive/My Drive/CoLab/ACPS/PlantPersona_data/Mustard/Thermal/P3/IR_04681.png in 35 length datastore\n",
            "24-04-23 23:25:37 - find function duration 13.480355262756348 seconds\n",
            "\n",
            "OUTPUT saved to :  drive/My Drive/CoLab/ACPS/DeepFace_output/Mustard_Thermal/P3/VGG-Face.txt\n",
            "24-04-23 23:25:37 - Found 35 newly added image(s), 0 removed image(s), 0 replaced image(s).\n"
          ]
        },
        {
          "output_type": "stream",
          "name": "stderr",
          "text": [
            "Finding representations: 100%|██████████| 35/35 [00:10<00:00,  3.41it/s]\n"
          ]
        },
        {
          "output_type": "stream",
          "name": "stdout",
          "text": [
            "24-04-23 23:25:47 - There are now 35 representations in ds_model_facenet_detector_opencv_aligned_normalization_base_expand_0.pkl\n",
            "24-04-23 23:25:47 - Searching drive/My Drive/CoLab/ACPS/PlantPersona_data/Mustard/Thermal/P3/IR_04681.png in 35 length datastore\n",
            "24-04-23 23:25:47 - find function duration 10.700013399124146 seconds\n",
            "\n",
            "OUTPUT saved to :  drive/My Drive/CoLab/ACPS/DeepFace_output/Mustard_Thermal/P3/Facenet.txt\n",
            "24-04-23 23:25:47 - Found 35 newly added image(s), 0 removed image(s), 0 replaced image(s).\n"
          ]
        },
        {
          "output_type": "stream",
          "name": "stderr",
          "text": [
            "Finding representations: 100%|██████████| 35/35 [00:05<00:00,  6.10it/s]\n"
          ]
        },
        {
          "output_type": "stream",
          "name": "stdout",
          "text": [
            "24-04-23 23:25:53 - There are now 35 representations in ds_model_openface_detector_opencv_aligned_normalization_base_expand_0.pkl\n",
            "24-04-23 23:25:53 - Searching drive/My Drive/CoLab/ACPS/PlantPersona_data/Mustard/Thermal/P3/IR_04681.png in 35 length datastore\n",
            "24-04-23 23:25:53 - find function duration 5.9855334758758545 seconds\n",
            "\n",
            "OUTPUT saved to :  drive/My Drive/CoLab/ACPS/DeepFace_output/Mustard_Thermal/P3/OpenFace.txt\n",
            "24-04-23 23:25:53 - Found 35 newly added image(s), 0 removed image(s), 0 replaced image(s).\n"
          ]
        },
        {
          "output_type": "stream",
          "name": "stderr",
          "text": [
            "Finding representations: 100%|██████████| 35/35 [00:05<00:00,  6.92it/s]\n"
          ]
        },
        {
          "output_type": "stream",
          "name": "stdout",
          "text": [
            "24-04-23 23:25:58 - There are now 35 representations in ds_model_arcface_detector_opencv_aligned_normalization_base_expand_0.pkl\n",
            "24-04-23 23:25:58 - Searching drive/My Drive/CoLab/ACPS/PlantPersona_data/Mustard/Thermal/P3/IR_04681.png in 35 length datastore\n",
            "24-04-23 23:25:59 - find function duration 5.340850353240967 seconds\n",
            "\n",
            "OUTPUT saved to :  drive/My Drive/CoLab/ACPS/DeepFace_output/Mustard_Thermal/P3/ArcFace.txt\n",
            "24-04-23 23:25:59 - Found 35 newly added image(s), 0 removed image(s), 0 replaced image(s).\n"
          ]
        },
        {
          "output_type": "stream",
          "name": "stderr",
          "text": [
            "Finding representations: 100%|██████████| 35/35 [00:04<00:00,  7.60it/s]\n"
          ]
        },
        {
          "output_type": "stream",
          "name": "stdout",
          "text": [
            "24-04-23 23:26:03 - There are now 35 representations in ds_model_sface_detector_opencv_aligned_normalization_base_expand_0.pkl\n",
            "24-04-23 23:26:03 - Searching drive/My Drive/CoLab/ACPS/PlantPersona_data/Mustard/Thermal/P3/IR_04681.png in 35 length datastore\n",
            "24-04-23 23:26:03 - find function duration 4.8706769943237305 seconds\n",
            "\n",
            "OUTPUT saved to :  drive/My Drive/CoLab/ACPS/DeepFace_output/Mustard_Thermal/P3/SFace.txt\n",
            "24-04-23 23:26:04 - Found 35 newly added image(s), 0 removed image(s), 0 replaced image(s).\n"
          ]
        },
        {
          "output_type": "stream",
          "name": "stderr",
          "text": [
            "Finding representations: 100%|██████████| 35/35 [00:08<00:00,  3.96it/s]\n"
          ]
        },
        {
          "output_type": "stream",
          "name": "stdout",
          "text": [
            "24-04-23 23:26:12 - There are now 35 representations in ds_model_ghostfacenet_detector_opencv_aligned_normalization_base_expand_0.pkl\n",
            "24-04-23 23:26:12 - Searching drive/My Drive/CoLab/ACPS/PlantPersona_data/Mustard/Thermal/P3/IR_04681.png in 35 length datastore\n",
            "24-04-23 23:26:13 - find function duration 9.217034578323364 seconds\n",
            "\n",
            "OUTPUT saved to :  drive/My Drive/CoLab/ACPS/DeepFace_output/Mustard_Thermal/P3/GhostFaceNet.txt\n",
            "24-04-23 23:26:24 - Found 35 newly added image(s), 0 removed image(s), 0 replaced image(s).\n"
          ]
        },
        {
          "output_type": "stream",
          "name": "stderr",
          "text": [
            "Finding representations: 100%|██████████| 35/35 [00:02<00:00, 14.24it/s]\n"
          ]
        },
        {
          "output_type": "stream",
          "name": "stdout",
          "text": [
            "24-04-23 23:26:26 - There are now 35 representations in ds_model_vggface_detector_opencv_aligned_normalization_base_expand_0.pkl\n",
            "24-04-23 23:26:26 - Searching drive/My Drive/CoLab/ACPS/PlantPersona_data/Mustard/Thermal/P3/IR_04681.png in 35 length datastore\n",
            "24-04-23 23:26:26 - find function duration 13.628694295883179 seconds\n",
            "\n",
            "OUTPUT saved to :  drive/My Drive/CoLab/ACPS/DeepFace_output/Mustard_Thermal/P4/VGG-Face.txt\n",
            "24-04-23 23:26:26 - Found 35 newly added image(s), 0 removed image(s), 0 replaced image(s).\n"
          ]
        },
        {
          "output_type": "stream",
          "name": "stderr",
          "text": [
            "Finding representations: 100%|██████████| 35/35 [00:10<00:00,  3.39it/s]\n"
          ]
        },
        {
          "output_type": "stream",
          "name": "stdout",
          "text": [
            "24-04-23 23:26:37 - There are now 35 representations in ds_model_facenet_detector_opencv_aligned_normalization_base_expand_0.pkl\n",
            "24-04-23 23:26:37 - Searching drive/My Drive/CoLab/ACPS/PlantPersona_data/Mustard/Thermal/P3/IR_04681.png in 35 length datastore\n",
            "24-04-23 23:26:37 - find function duration 10.736836671829224 seconds\n",
            "\n",
            "OUTPUT saved to :  drive/My Drive/CoLab/ACPS/DeepFace_output/Mustard_Thermal/P4/Facenet.txt\n",
            "24-04-23 23:26:37 - Found 35 newly added image(s), 0 removed image(s), 0 replaced image(s).\n"
          ]
        },
        {
          "output_type": "stream",
          "name": "stderr",
          "text": [
            "Finding representations: 100%|██████████| 35/35 [00:04<00:00,  7.23it/s]\n"
          ]
        },
        {
          "output_type": "stream",
          "name": "stdout",
          "text": [
            "24-04-23 23:26:42 - There are now 35 representations in ds_model_openface_detector_opencv_aligned_normalization_base_expand_0.pkl\n",
            "24-04-23 23:26:42 - Searching drive/My Drive/CoLab/ACPS/PlantPersona_data/Mustard/Thermal/P3/IR_04681.png in 35 length datastore\n",
            "24-04-23 23:26:43 - find function duration 5.424658298492432 seconds\n",
            "\n",
            "OUTPUT saved to :  drive/My Drive/CoLab/ACPS/DeepFace_output/Mustard_Thermal/P4/OpenFace.txt\n",
            "24-04-23 23:26:43 - Found 35 newly added image(s), 0 removed image(s), 0 replaced image(s).\n"
          ]
        },
        {
          "output_type": "stream",
          "name": "stderr",
          "text": [
            "Finding representations: 100%|██████████| 35/35 [00:06<00:00,  5.41it/s]\n"
          ]
        },
        {
          "output_type": "stream",
          "name": "stdout",
          "text": [
            "24-04-23 23:26:50 - There are now 35 representations in ds_model_arcface_detector_opencv_aligned_normalization_base_expand_0.pkl\n",
            "24-04-23 23:26:50 - Searching drive/My Drive/CoLab/ACPS/PlantPersona_data/Mustard/Thermal/P3/IR_04681.png in 35 length datastore\n",
            "24-04-23 23:26:50 - find function duration 7.224295139312744 seconds\n",
            "\n",
            "OUTPUT saved to :  drive/My Drive/CoLab/ACPS/DeepFace_output/Mustard_Thermal/P4/ArcFace.txt\n",
            "24-04-23 23:26:50 - Found 35 newly added image(s), 0 removed image(s), 0 replaced image(s).\n"
          ]
        },
        {
          "output_type": "stream",
          "name": "stderr",
          "text": [
            "Finding representations: 100%|██████████| 35/35 [00:02<00:00, 12.94it/s]\n"
          ]
        },
        {
          "output_type": "stream",
          "name": "stdout",
          "text": [
            "24-04-23 23:26:53 - There are now 35 representations in ds_model_sface_detector_opencv_aligned_normalization_base_expand_0.pkl\n",
            "24-04-23 23:26:53 - Searching drive/My Drive/CoLab/ACPS/PlantPersona_data/Mustard/Thermal/P3/IR_04681.png in 35 length datastore\n",
            "24-04-23 23:26:53 - find function duration 2.911872386932373 seconds\n",
            "\n",
            "OUTPUT saved to :  drive/My Drive/CoLab/ACPS/DeepFace_output/Mustard_Thermal/P4/SFace.txt\n",
            "24-04-23 23:26:53 - Found 35 newly added image(s), 0 removed image(s), 0 replaced image(s).\n"
          ]
        },
        {
          "output_type": "stream",
          "name": "stderr",
          "text": [
            "Finding representations: 100%|██████████| 35/35 [00:08<00:00,  3.96it/s]\n"
          ]
        },
        {
          "output_type": "stream",
          "name": "stdout",
          "text": [
            "24-04-23 23:27:02 - There are now 35 representations in ds_model_ghostfacenet_detector_opencv_aligned_normalization_base_expand_0.pkl\n",
            "24-04-23 23:27:02 - Searching drive/My Drive/CoLab/ACPS/PlantPersona_data/Mustard/Thermal/P3/IR_04681.png in 35 length datastore\n",
            "24-04-23 23:27:02 - find function duration 9.213027000427246 seconds\n",
            "\n",
            "OUTPUT saved to :  drive/My Drive/CoLab/ACPS/DeepFace_output/Mustard_Thermal/P4/GhostFaceNet.txt\n"
          ]
        }
      ]
    },
    {
      "cell_type": "markdown",
      "source": [
        "# **`Lady Palm Plants`**"
      ],
      "metadata": {
        "id": "OisrmBhuIlHB"
      }
    },
    {
      "cell_type": "code",
      "source": [
        "for plant_type in range (1,9):\n",
        "\n",
        "    for model in models:\n",
        "\n",
        "        result = DeepFace.find(img_path = 'drive/My Drive/CoLab/ACPS/PlantPersona_data/PalmPlants/P2/2_2_5.jpg',\n",
        "                              db_path = 'drive/My Drive/CoLab/ACPS/PlantPersona_data/PalmPlants/P' + str(plant_type),\n",
        "                              enforce_detection = False,\n",
        "                              distance_metric = metrics[2],\n",
        "                              model_name = model)\n",
        "\n",
        "        model_used = model\n",
        "        upload_path ='drive/My Drive/CoLab/ACPS/DeepFace_output/PalmPlants/P' + str(plant_type) + '/' + str(model_used) + '.txt'\n",
        "        my_df = result[0]\n",
        "        my_df.to_csv(upload_path, index = False)\n",
        "\n",
        "        print(\"\\nOUTPUT saved to : \", upload_path)\n"
      ],
      "metadata": {
        "colab": {
          "base_uri": "https://localhost:8080/"
        },
        "id": "FWnp_3MIGYE3",
        "outputId": "3b1ab096-de94-4fbd-cf6a-d5542d74fb14"
      },
      "execution_count": null,
      "outputs": [
        {
          "output_type": "stream",
          "name": "stdout",
          "text": [
            "24-04-23 23:56:09 - Found 0 newly added image(s), 0 removed image(s), 319 replaced image(s).\n"
          ]
        },
        {
          "output_type": "stream",
          "name": "stderr",
          "text": [
            "Finding representations: 100%|██████████| 319/319 [1:47:12<00:00, 20.16s/it]\n"
          ]
        },
        {
          "output_type": "stream",
          "name": "stdout",
          "text": [
            "24-04-24 01:43:22 - There are now 2475 representations in ds_model_vggface_detector_opencv_aligned_normalization_base_expand_0.pkl\n",
            "24-04-24 01:43:22 - Searching drive/My Drive/CoLab/ACPS/PlantPersona_data/PalmPlants/P2/2_2_5.jpg in 2475 length datastore\n",
            "24-04-24 01:43:58 - find function duration 6469.594416379929 seconds\n",
            "\n",
            "OUTPUT saved to :  drive/My Drive/CoLab/ACPS/DeepFace_output/PalmPlants/P1/VGG-Face.txt\n",
            "24-04-24 01:43:59 - Found 50 newly added image(s), 0 removed image(s), 0 replaced image(s).\n"
          ]
        },
        {
          "output_type": "stream",
          "name": "stderr",
          "text": [
            "Finding representations: 100%|██████████| 50/50 [17:44<00:00, 21.29s/it]\n"
          ]
        },
        {
          "output_type": "stream",
          "name": "stdout",
          "text": [
            "24-04-24 02:01:43 - There are now 319 representations in ds_model_facenet_detector_opencv_aligned_normalization_base_expand_0.pkl\n",
            "24-04-24 02:01:43 - Searching drive/My Drive/CoLab/ACPS/PlantPersona_data/PalmPlants/P2/2_2_5.jpg in 319 length datastore\n",
            "24-04-24 02:02:06 - find function duration 1087.6112632751465 seconds\n",
            "\n",
            "OUTPUT saved to :  drive/My Drive/CoLab/ACPS/DeepFace_output/PalmPlants/P1/Facenet.txt\n",
            "24-04-24 02:02:06 - Found 50 newly added image(s), 0 removed image(s), 0 replaced image(s).\n"
          ]
        },
        {
          "output_type": "stream",
          "name": "stderr",
          "text": [
            "Finding representations: 100%|██████████| 50/50 [17:03<00:00, 20.48s/it]\n"
          ]
        },
        {
          "output_type": "stream",
          "name": "stdout",
          "text": [
            "24-04-24 02:19:10 - There are now 319 representations in ds_model_openface_detector_opencv_aligned_normalization_base_expand_0.pkl\n",
            "24-04-24 02:19:10 - Searching drive/My Drive/CoLab/ACPS/PlantPersona_data/PalmPlants/P2/2_2_5.jpg in 319 length datastore\n",
            "24-04-24 02:19:33 - find function duration 1046.9072058200836 seconds\n",
            "\n",
            "OUTPUT saved to :  drive/My Drive/CoLab/ACPS/DeepFace_output/PalmPlants/P1/OpenFace.txt\n",
            "24-04-24 02:19:33 - Found 50 newly added image(s), 0 removed image(s), 0 replaced image(s).\n"
          ]
        },
        {
          "output_type": "stream",
          "name": "stderr",
          "text": [
            "Finding representations: 100%|██████████| 50/50 [17:17<00:00, 20.75s/it]\n"
          ]
        },
        {
          "output_type": "stream",
          "name": "stdout",
          "text": [
            "24-04-24 02:36:51 - There are now 319 representations in ds_model_arcface_detector_opencv_aligned_normalization_base_expand_0.pkl\n",
            "24-04-24 02:36:51 - Searching drive/My Drive/CoLab/ACPS/PlantPersona_data/PalmPlants/P2/2_2_5.jpg in 319 length datastore\n",
            "24-04-24 02:37:14 - find function duration 1061.2209649085999 seconds\n",
            "\n",
            "OUTPUT saved to :  drive/My Drive/CoLab/ACPS/DeepFace_output/PalmPlants/P1/ArcFace.txt\n",
            "24-04-24 02:37:14 - Found 50 newly added image(s), 0 removed image(s), 0 replaced image(s).\n"
          ]
        },
        {
          "output_type": "stream",
          "name": "stderr",
          "text": [
            "\rFinding representations:   0%|          | 0/50 [00:00<?, ?it/s]"
          ]
        }
      ]
    }
  ]
}